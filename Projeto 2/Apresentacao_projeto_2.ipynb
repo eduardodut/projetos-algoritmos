{
 "cells": [
  {
   "cell_type": "markdown",
   "metadata": {
    "nteract": {
     "transient": {
      "deleting": false
     }
    }
   },
   "source": [
    "# Construção e análise de algoritmos\n",
    "## Trabalho 02\n",
    "### Equipe:\n",
    " - Eduardo Façanha\n",
    " - Giovanni Brígido\n",
    " - João David\n",
    " - Maurício\n",
    " - Nicole Rocha\n",
    " - Tiago Ponte"
   ]
  },
  {
   "cell_type": "markdown",
   "metadata": {
    "colab_type": "text",
    "id": "bsiCd-7Mo9JJ",
    "nteract": {
     "transient": {
      "deleting": false
     }
    }
   },
   "source": [
    "## a)\n",
    "Realizar a leitura do arquivo de entrada, armazenando os dados dos contratos (0,5 ponto) (Data de entrega: 16/06):\n",
    "    1. Em um vetor de objetos do tipo contrato; e\n",
    "    2. Em uma matriz, indexada pelo fornecedor, pelo mês de início e pelo mês de fim do contrato, onde cada elemento armazena o valor do contrato respectivo."
   ]
  },
  {
   "cell_type": "markdown",
   "metadata": {
    "colab_type": "text",
    "id": "L_EUv7yvo9JM"
   },
   "source": [
    "### Import do código desenvolvido para o trabalho"
   ]
  },
  {
   "cell_type": "code",
   "execution_count": null,
   "metadata": {
    "colab": {},
    "colab_type": "code",
    "execution": {
     "iopub.execute_input": "2020-07-01T23:11:35.855Z",
     "iopub.status.busy": "2020-07-01T23:11:35.837Z",
     "iopub.status.idle": "2020-07-01T23:11:37.882Z"
    },
    "id": "zARWYZbno9JO"
   },
   "outputs": [],
   "source": [
    "include(\"Algoritmos/Algoritmos_Ordenacao.jl\")\n",
    "include(\"Algoritmos/Ordenacao_Estrutural.jl\")\n",
    "include(\"Algoritmos/Inicializacao.jl\")\n",
    "include(\"Algoritmos/Saida.jl\")\n",
    "include(\"Algoritmos/Grafico.jl\")\n",
    "\n",
    "using BenchmarkTools, Juno, DataFrames, Plots, StatsPlots\n",
    "\n",
    "insertionsort = Algoritmos_Ordenacao.insertionsort\n",
    "mergesort = Algoritmos_Ordenacao.mergesort\n",
    "heapsort = Algoritmos_Ordenacao.heapsort\n",
    "quicksort = Algoritmos_Ordenacao.quicksort\n",
    "\n",
    "teste_ordenacao(vetor::Vector{Tuple{Int64,Int64,Int64,Float64}})::Bool = issorted(DataFrame(vetor)[!, 4]) ? true : false"
   ]
  },
  {
   "cell_type": "markdown",
   "metadata": {
    "colab_type": "text",
    "id": "KJwyAk3no9Jb"
   },
   "source": [
    "### Inicialização das variáveis"
   ]
  },
  {
   "cell_type": "code",
   "execution_count": null,
   "metadata": {
    "colab": {},
    "colab_type": "code",
    "execution": {
     "iopub.execute_input": "2020-07-01T16:53:23.666Z",
     "iopub.status.busy": "2020-07-01T16:53:23.648Z",
     "iopub.status.idle": "2020-07-01T16:53:25.141Z"
    },
    "id": "fXyW2q6Ro9Jd"
   },
   "outputs": [],
   "source": [
    "var = Inicializacao.inicializar_variaveis(\"Dados/entrada.txt\")\n",
    "const entrada_matricial = var[1]\n",
    "const entrada_vetorizada = var[2]\n",
    "const m = var[3]\n",
    "const n = var[4]"
   ]
  },
  {
   "cell_type": "markdown",
   "metadata": {
    "colab_type": "text",
    "id": "Fv9C-bRyo9Jv",
    "nteract": {
     "transient": {
      "deleting": false
     }
    }
   },
   "source": [
    "## b) \n",
    "Explicar qual das duas maneiras de armazenamento dos dados é mais eficiente, em relação ao consumo de memória, tanto em termos assintóticos quanto em termos de absolutos. (Data de entrega: 18/06) (0,5 ponto)"
   ]
  },
  {
   "cell_type": "code",
   "execution_count": 30,
   "metadata": {
    "colab": {
     "base_uri": "https://localhost:8080/",
     "height": 231
    },
    "colab_type": "code",
    "execution": {
     "iopub.execute_input": "2020-06-30T00:10:16.381Z",
     "iopub.status.busy": "2020-06-30T00:10:16.355Z",
     "iopub.status.idle": "2020-06-30T00:10:16.734Z"
    },
    "executionInfo": {
     "elapsed": 1316,
     "status": "error",
     "timestamp": 1593377429183,
     "user": {
      "displayName": "",
      "photoUrl": "",
      "userId": ""
     },
     "user_tz": 180
    },
    "id": "GCfhRcico9Jw",
    "outputId": "43353f63-bf90-42ae-a753-215b4a490649"
   },
   "outputs": [
    {
     "name": "stdout",
     "output_type": "stream",
     "text": [
      "n_posicoes_entrada_vetorizada :2904000\n",
      "n_posicoes_entrada_matricial :1440000\n",
      "0.49586776859504134"
     ]
    }
   ],
   "source": [
    "\"\"\"\n",
    "O número de posições da entrada vetorizada é 4*m*n*(n+1)/2, onde 4 é o número de dados por contrato \n",
    "e o restante da expressão representa o número de linhas do arquivo. \n",
    "A estrutura é densa, todas as posições são ocupadas, pois todos os dados do contrato são guardados nessa estrutura.  \n",
    "Assintóticamente, a complexida de espaço é: Θ(2mn(n+1)) -> Θ(mn²)\n",
    "\"\"\" \n",
    "n_posicoes_entrada_vetorizada = 4*length(entrada_vetorizada) \n",
    "println(\"n_posicoes_entrada_vetorizada :\",n_posicoes_entrada_vetorizada)\n",
    "\n",
    "\"\"\"\n",
    "A entrada matricial é um vetor de 3 dimensões, onde cada dimensão é representada pela empresa,\n",
    "mes_inicial e mes_final do contrato, e apenas o valor do contrato é guardado nessa estrutura.\n",
    "\n",
    "entrada_matricial[empresa, mes_inicial, mes_final] = valor\n",
    "\n",
    "entrada_matricial[100, 120, 120]\n",
    "\n",
    "A estrutura é esparsa, pois reserva espaços para contratos que não existem. No total são reservadas\n",
    "m*n^2 posições de memória.\n",
    "Assintóticamente, a complexida de espaço é: Θ(mn²)\n",
    "\"\"\" \n",
    "\n",
    "n_posicoes_entrada_matricial = length(entrada_matricial)\n",
    "println(\"n_posicoes_entrada_matricial :\",n_posicoes_entrada_matricial)\n",
    "print(n_posicoes_entrada_matricial/n_posicoes_entrada_vetorizada)"
   ]
  },
  {
   "cell_type": "markdown",
   "metadata": {
    "colab_type": "text",
    "id": "YjnDgyxTo9J4",
    "nteract": {
     "transient": {
      "deleting": false
     }
    }
   },
   "source": [
    "## c) \n",
    "Implementar o método de ordenação Insertion Sort para ordenar o vetor de objetos do tipo contrato. Criar um clone do vetor (simplesmente para não alterar a organização original dos dados) e aplicar o método de ordenação, exibindo ao final o tempo total de execução da ordenação. (Data de entrega: 16/06) (1,0 ponto)\n"
   ]
  },
  {
   "cell_type": "code",
   "execution_count": 10,
   "metadata": {
    "colab": {},
    "colab_type": "code",
    "execution": {
     "iopub.execute_input": "2020-07-01T16:56:16.276Z",
     "iopub.status.busy": "2020-07-01T16:56:16.253Z",
     "iopub.status.idle": "2020-07-01T17:02:45.549Z"
    },
    "id": "Vzgnh_ISo9J6",
    "nteract": {
     "transient": {
      "deleting": false
     }
    },
    "outputId": "f87c6b57-8e23-4440-9a8c-52690e7f7351"
   },
   "outputs": [
    {
     "data": {
      "text/plain": [
       "388.934654701"
      ]
     },
     "execution_count": 10,
     "metadata": {},
     "output_type": "execute_result"
    }
   ],
   "source": [
    "@elapsed ordenado_insertion_sort =\n",
    "    insertionsort(entrada_vetorizada)"
   ]
  },
  {
   "cell_type": "code",
   "execution_count": 16,
   "metadata": {
    "execution": {
     "iopub.execute_input": "2020-07-01T17:10:08.700Z",
     "iopub.status.busy": "2020-07-01T17:10:08.682Z",
     "iopub.status.idle": "2020-07-01T17:17:16.531Z"
    },
    "jupyter": {
     "outputs_hidden": false,
     "source_hidden": false
    },
    "nteract": {
     "transient": {
      "deleting": false
     }
    }
   },
   "outputs": [
    {
     "name": "stdout",
     "output_type": "stream",
     "text": [
      "Está ordenado? sim"
     ]
    }
   ],
   "source": [
    "print(\"Está ordenado? \", insertionsort(entrada_vetorizada) |> teste_ordenacao ? \"sim\" : \"não\")"
   ]
  },
  {
   "cell_type": "markdown",
   "metadata": {
    "colab_type": "text",
    "id": "MfsmfGa5o9Kh",
    "nteract": {
     "transient": {
      "deleting": false
     }
    }
   },
   "source": [
    "## d) \n",
    "Apresentar a complexidade da função descrita no item anterior, fazendo uso de notação assintótica e tendo como parâmetros somente a quantidade n de meses e a quantidade m de fornecedores. (Data de entrega: 18/06) (0,5 ponto)\n"
   ]
  },
  {
   "cell_type": "markdown",
   "metadata": {
    "colab_type": "text",
    "id": "0iOHXSL9o9Kk"
   },
   "source": [
    "**Θ(m²n⁴)**, pois o número de linhas do arquivo é função do número de empresas (m) e do número de meses (n). Para um caso genérico o insertion sort possui o melhor caso **Θ(n)** e pior caso **Θ(n²)**.\n",
    "\n"
   ]
  },
  {
   "cell_type": "markdown",
   "metadata": {
    "colab_type": "text",
    "id": "mHUn0t0vo9Km",
    "nteract": {
     "transient": {
      "deleting": false
     }
    }
   },
   "source": [
    "## e)\n",
    "Implementar o método de ordenação **Mergesort** para ordenar o vetor de objetos do tipo contrato. Criar um clone do vetor e aplicar o método de ordenação, exibindo ao final o tempo total de execução da ordenação. (Data de entrega: 23/06) (1,0 ponto)\n"
   ]
  },
  {
   "cell_type": "code",
   "execution_count": 22,
   "metadata": {
    "execution": {
     "iopub.execute_input": "2020-07-01T22:54:36.344Z",
     "iopub.status.busy": "2020-07-01T22:54:36.327Z",
     "iopub.status.idle": "2020-07-01T22:55:01.396Z"
    },
    "jupyter": {
     "outputs_hidden": false,
     "source_hidden": false
    },
    "nteract": {
     "transient": {
      "deleting": false
     }
    }
   },
   "outputs": [
    {
     "data": {
      "text/plain": [
       "BenchmarkTools.Trial: \n",
       "  memory estimate:  2.54 GiB\n",
       "  allocs estimate:  7969925\n",
       "  --------------\n",
       "  minimum time:     2.182 s (25.07% GC)\n",
       "  median time:      2.235 s (26.95% GC)\n",
       "  mean time:        2.291 s (28.15% GC)\n",
       "  maximum time:     2.455 s (31.97% GC)\n",
       "  --------------\n",
       "  samples:          3\n",
       "  evals/sample:     1"
      ]
     },
     "execution_count": 22,
     "metadata": {},
     "output_type": "execute_result"
    }
   ],
   "source": [
    "@benchmark ordenado_merge_sort = mergesort($entrada_vetorizada)"
   ]
  },
  {
   "cell_type": "code",
   "execution_count": 13,
   "metadata": {
    "execution": {
     "iopub.execute_input": "2020-07-01T17:09:52.988Z",
     "iopub.status.busy": "2020-07-01T17:09:52.957Z",
     "iopub.status.idle": "2020-07-01T17:09:54.155Z"
    },
    "jupyter": {
     "outputs_hidden": false,
     "source_hidden": false
    },
    "nteract": {
     "transient": {
      "deleting": false
     }
    }
   },
   "outputs": [
    {
     "name": "stdout",
     "output_type": "stream",
     "text": [
      "Está ordenado? sim"
     ]
    }
   ],
   "source": [
    "print(\"Está ordenado? \", mergesort(entrada_vetorizada) |> teste_ordenacao ? \"sim\" : \"não\")"
   ]
  },
  {
   "cell_type": "markdown",
   "metadata": {
    "colab_type": "text",
    "id": "6UqCJRQyo9Ko",
    "nteract": {
     "transient": {
      "deleting": false
     }
    }
   },
   "source": [
    "## f) \n",
    "Apresentar a complexidade da função descrita no item anterior, fazendo uso de notação assintótica e tendo como parâmetros somente a quantidade n de meses e a quantidade m de fornecedores. (Data de entrega: 23/06) (0,5 ponto)\n"
   ]
  },
  {
   "cell_type": "code",
   "execution_count": null,
   "metadata": {
    "colab": {},
    "colab_type": "code",
    "collapsed": true,
    "id": "As0KOVg-vvkY"
   },
   "outputs": [],
   "source": [
    "\"\"\"\n",
    "O merge sort é um exemplo de algoritmo de ordenação por comparação do tipo dividir-para-conquistar.  \n",
    "Sua ideia básica consiste em Dividir (o problema em vários subproblemas e resolver esses subproblemas através da recursividade)  \n",
    "e Conquistar (após todos os subproblemas terem sido resolvidos ocorre a conquista que é a união das resoluções dos subproblemas).  \n",
    "A complexida: Θ(mn² log(mn²)).\n",
    "\n",
    "\n",
    "\"\"\" "
   ]
  },
  {
   "cell_type": "markdown",
   "metadata": {
    "colab_type": "text",
    "id": "7SFDYI3mo9Kp",
    "nteract": {
     "transient": {
      "deleting": false
     }
    }
   },
   "source": [
    "## g)\n",
    "Implementar o método de ordenação **Heapsort** para ordenar o vetor de objetos do tipo contrato. Criar um clone do vetor e aplicar o método de ordenação, exibindo ao final o tempo total de execução da ordenação. (Data de entrega: 23/06) (1,0 ponto)\n"
   ]
  },
  {
   "cell_type": "code",
   "execution_count": 14,
   "metadata": {
    "execution": {
     "iopub.execute_input": "2020-07-01T17:09:54.192Z",
     "iopub.status.busy": "2020-07-01T17:09:54.174Z",
     "iopub.status.idle": "2020-07-01T17:10:07.497Z"
    },
    "jupyter": {
     "outputs_hidden": false,
     "source_hidden": false
    },
    "nteract": {
     "transient": {
      "deleting": false
     }
    }
   },
   "outputs": [
    {
     "data": {
      "text/plain": [
       "BenchmarkTools.Trial: \n",
       "  memory estimate:  30.46 MiB\n",
       "  allocs estimate:  6\n",
       "  --------------\n",
       "  minimum time:     197.728 ms (0.00% GC)\n",
       "  median time:      235.683 ms (0.00% GC)\n",
       "  mean time:        239.688 ms (1.40% GC)\n",
       "  maximum time:     313.748 ms (14.10% GC)\n",
       "  --------------\n",
       "  samples:          21\n",
       "  evals/sample:     1"
      ]
     },
     "execution_count": 14,
     "metadata": {},
     "output_type": "execute_result"
    }
   ],
   "source": [
    "@benchmark ordenado_heap_sort = heapsort($entrada_vetorizada)"
   ]
  },
  {
   "cell_type": "code",
   "execution_count": 20,
   "metadata": {
    "execution": {
     "iopub.execute_input": "2020-07-01T22:53:28.412Z",
     "iopub.status.busy": "2020-07-01T22:53:28.391Z",
     "iopub.status.idle": "2020-07-01T22:53:29.533Z"
    },
    "jupyter": {
     "outputs_hidden": false,
     "source_hidden": false
    },
    "nteract": {
     "transient": {
      "deleting": false
     }
    }
   },
   "outputs": [
    {
     "name": "stdout",
     "output_type": "stream",
     "text": [
      "Está ordenado? sim"
     ]
    }
   ],
   "source": [
    "print(\"Está ordenado? \", heapsort(entrada_vetorizada) |> teste_ordenacao ? \"sim\" : \"não\")"
   ]
  },
  {
   "cell_type": "markdown",
   "metadata": {
    "colab_type": "text",
    "id": "bsWrSVJoo9Kr",
    "nteract": {
     "transient": {
      "deleting": false
     }
    }
   },
   "source": [
    "## h)\n",
    "Apresentar a complexidade da função descrita no item anterior, fazendo uso de notação assintótica e tendo como parâmetros somente a quantidade n de meses e a quantidade m de fornecedores. (Data de entrega: 23/06) (0,5 ponto)\n"
   ]
  },
  {
   "cell_type": "code",
   "execution_count": null,
   "metadata": {
    "colab": {},
    "colab_type": "code",
    "collapsed": true,
    "id": "nUCyLmvF17-f"
   },
   "outputs": [],
   "source": [
    "\"\"\"\n",
    "O algoritmo heapsort é um algoritmo de ordenação generalista, e faz parte da família de algoritmos de ordenação por seleção.  \n",
    "Tem um desempenho em tempo de execução muito bom em conjuntos ordenados aleatoriamente, tem um uso de memória bem comportado  \n",
    "e o seu desempenho em pior cenário é praticamente igual ao desempenho em cenário médio. Como o Insertion Sort, mas diferentemente  \n",
    "do Merge Sort, o Heapsort é um algoritmo do tipo local: apenas um número constante de elementos do array é armazenado fora do  \n",
    "array de entrada durante a sua execução. Assim, o Heapsort combina os melhores atributos dos dois algoritmos de classificação citados.  \n",
    "A complexida: Θ(mn² lg(mn²)).\n",
    "\"\"\" "
   ]
  },
  {
   "cell_type": "markdown",
   "metadata": {
    "colab_type": "text",
    "id": "Cg0tjIt3o9Ks",
    "nteract": {
     "transient": {
      "deleting": false
     }
    }
   },
   "source": [
    "## i)\n",
    "Implementar o método de ordenação **Quicksort** para ordenar o vetor de objetos do tipo contrato. Criar um clone do vetor e aplicar o método de ordenação, exibindo ao final o tempo total de execução da ordenação. (Data de entrega: 23/06) (1,0 ponto)\n"
   ]
  },
  {
   "cell_type": "code",
   "execution_count": 36,
   "metadata": {
    "execution": {
     "iopub.execute_input": "2020-07-01T23:10:26.416Z",
     "iopub.status.busy": "2020-07-01T23:10:26.399Z",
     "iopub.status.idle": "2020-07-01T23:10:38.470Z"
    },
    "jupyter": {
     "outputs_hidden": false,
     "source_hidden": false
    },
    "nteract": {
     "transient": {
      "deleting": false
     }
    }
   },
   "outputs": [
    {
     "data": {
      "text/plain": [
       "BenchmarkTools.Trial: \n",
       "  memory estimate:  0 bytes\n",
       "  allocs estimate:  0\n",
       "  --------------\n",
       "  minimum time:     48.812 ms (0.00% GC)\n",
       "  median time:      58.962 ms (0.00% GC)\n",
       "  mean time:        63.197 ms (0.00% GC)\n",
       "  maximum time:     112.097 ms (0.00% GC)\n",
       "  --------------\n",
       "  samples:          80\n",
       "  evals/sample:     1"
      ]
     },
     "execution_count": 36,
     "metadata": {},
     "output_type": "execute_result"
    }
   ],
   "source": [
    "@benchmark quicksort($entrada_vetorizada)"
   ]
  },
  {
   "cell_type": "code",
   "execution_count": 24,
   "metadata": {
    "execution": {
     "iopub.execute_input": "2020-07-01T22:55:34.371Z",
     "iopub.status.busy": "2020-07-01T22:55:34.330Z",
     "iopub.status.idle": "2020-07-01T22:55:34.686Z"
    },
    "jupyter": {
     "outputs_hidden": false,
     "source_hidden": false
    },
    "nteract": {
     "transient": {
      "deleting": false
     }
    }
   },
   "outputs": [
    {
     "name": "stdout",
     "output_type": "stream",
     "text": [
      "Está ordenado? sim"
     ]
    }
   ],
   "source": [
    "print(\"Está ordenado? \", quicksort(entrada_vetorizada) |> teste_ordenacao ? \"sim\" : \"não\")"
   ]
  },
  {
   "cell_type": "markdown",
   "metadata": {
    "colab_type": "text",
    "id": "9EAY1jGoo9Kt",
    "nteract": {
     "transient": {
      "deleting": false
     }
    }
   },
   "source": [
    "## j)\n",
    "Apresentar a complexidade da função descrita no item anterior, fazendo uso de notação assintótica e tendo como parâmetros somente a quantidade n de meses e a quantidade m de fornecedores. (Data de entrega: 23/06) (0,5 ponto)\n"
   ]
  },
  {
   "cell_type": "code",
   "execution_count": null,
   "metadata": {
    "colab": {},
    "colab_type": "code",
    "collapsed": true,
    "id": "r4Q0b_0B4WCQ"
   },
   "outputs": [],
   "source": [
    "\"\"\"\n",
    "O quicksort adota a estratégia de divisão e conquista. A estratégia consiste em rearranjar as chaves de modo que as chaves  \n",
    "\"menores\" precedam as chaves \"maiores\". Em seguida o quicksort ordena as duas sublistas de chaves menores e maiores\n",
    "recursivamente até que a lista completa se encontre ordenada.\n",
    "Complexidade: Θ(mn² log(mn²)\n",
    "\n",
    "Complexida de pior caso genérico: Θ(n²).  \n",
    "Complexidade de melhor caso genérico: Θ(nlog(n)). \n",
    "\"\"\" "
   ]
  },
  {
   "cell_type": "markdown",
   "metadata": {
    "colab_type": "text",
    "id": "SR0NmBVyo9Ku",
    "nteract": {
     "transient": {
      "deleting": false
     }
    }
   },
   "source": [
    "## k)\n",
    "Baseando-se nas ideias dos algoritmos apresentados, criar um método de ordenação que, entretanto, explore as regras de formação de preços de contratos de um fornecedor (expressas na matriz de contratos), para realizar a ordenação dos contratos pelo valor, exibindo ao final o tempo total de execução da ordenação. (Data de entrega: 25/06) (2,0 pontos)\n"
   ]
  },
  {
   "cell_type": "markdown",
   "metadata": {
    "colab_type": "text",
    "id": "1Ad0Nm5jo9Kw"
   },
   "source": [
    "Foram desenvolvidas duas soluções. A primeira solução separa as o arquivo em 100 vetores, através do cálculo dos índices de início e fim de cada empresa, aproveitando-se da estrutura de formação do arquivo, e aplicando um algoritmo de ordenação. Após a ordenação individual é realizado o merge dos 100 vetores devidamente através do método de heap mínimo.\n",
    "\n",
    "Um dos parâmetros da função de divisão em empresa é o algoritmo de ordenação que será aplicado, portanto, cada algoritmo previamente demonstrado foi aplicado com o objetivo de verificar se há ganho de performance.\n",
    "\n",
    "\n",
    "A segunda solução se baseia em observar que, na estrutura matricial, a tabela correspondente de cada empresa está organizada de forma que os valores de uma coluna decresce das posições superiores para as inferiores, e os valores de cada linha crescem da esquerda para direita.\n",
    "\n",
    "Para aproveitar esse ordenamento existente foi construído um Heap max de listas linkadas para realizar a intercalação dos valores das colunas. As colunas individualmente são tratadas como listas linkadas, onde a primeira posição é ocupada pelo maior item, que por sua vez são os componentes do Heap max. O ordenamento da direita para esquerda crescente dos valores do topo de cada coluna é aproveitado para economizar o uso da função de construção do heap max.\n",
    "\n",
    "A ordenação final das empresas inidivdualmente ordenadas dessa forma é realizada através de heap min, como na primeira solução.\n",
    "\n",
    "Para ambas as soluções, por se utilizarem da estratégia de divisão do problema, foi implementado um argumento booleano para selecionar ou não a execução em paralelo da ordenação individual de cada empresa. Os resultados são mostrados nas células a seguir."
   ]
  },
  {
   "cell_type": "markdown",
   "metadata": {
    "nteract": {
     "transient": {
      "deleting": false
     }
    }
   },
   "source": [
    "### Primeira solução\n",
    "\n",
    "A seguir são mostrados os resultados de cada algoritmo utilizando a estratégia de divisão de empresas. É utilizada a estrutura vetorial para a execução da solução."
   ]
  },
  {
   "cell_type": "code",
   "execution_count": null,
   "metadata": {
    "execution": {
     "iopub.execute_input": "2020-07-01T23:12:13.445Z",
     "iopub.status.busy": "2020-07-01T23:12:13.432Z",
     "iopub.status.idle": "2020-07-01T23:12:13.475Z"
    },
    "jupyter": {
     "outputs_hidden": false,
     "source_hidden": false
    },
    "nteract": {
     "transient": {
      "deleting": false
     }
    }
   },
   "outputs": [],
   "source": [
    "#criação da função dividir_ordenar_intercalar através da composição da estratégia de divisão entre empresas e a aplicação da intercalação de k vetores.\n",
    "\n",
    "dividir_ordenar_intercalar(\n",
    "    entrada_vetorizada::Vector{Tuple{Int64,Int64,Int64,Float64}},\n",
    "    funcao_ordenacao,\n",
    "    paralelizar::Bool,\n",
    ")::Vector{Tuple{Int64,Int64,Int64,Float64}} =\n",
    "    Algoritmos_Ordenacao.dividir_e_ordenar(\n",
    "        entrada_vetorizada,\n",
    "        funcao_ordenacao,\n",
    "        paralelizar,\n",
    "    ) |> Algoritmos_Ordenacao.intercalar_k_vetores_ordenados\n"
   ]
  },
  {
   "cell_type": "markdown",
   "metadata": {
    "colab_type": "text",
    "id": "0VVUVMoYo9KT"
   },
   "source": [
    "#### Mergesort\n",
    "\n",
    "Previamente o mergesort completou a execução numa média de 2.3s."
   ]
  },
  {
   "cell_type": "code",
   "execution_count": 42,
   "metadata": {
    "execution": {
     "iopub.execute_input": "2020-07-01T23:14:27.412Z",
     "iopub.status.busy": "2020-07-01T23:14:27.396Z",
     "iopub.status.idle": "2020-07-01T23:14:46.336Z"
    },
    "jupyter": {
     "outputs_hidden": false,
     "source_hidden": false
    },
    "nteract": {
     "transient": {
      "deleting": false
     }
    }
   },
   "outputs": [
    {
     "data": {
      "text/plain": [
       "BenchmarkTools.Trial: \n",
       "  memory estimate:  2.08 GiB\n",
       "  allocs estimate:  6850732\n",
       "  --------------\n",
       "  minimum time:     1.689 s (15.52% GC)\n",
       "  median time:      2.247 s (34.26% GC)\n",
       "  mean time:        2.303 s (33.14% GC)\n",
       "  maximum time:     2.972 s (42.31% GC)\n",
       "  --------------\n",
       "  samples:          3\n",
       "  evals/sample:     1"
      ]
     },
     "execution_count": 42,
     "metadata": {},
     "output_type": "execute_result"
    }
   ],
   "source": [
    "#com paralelismo\n",
    "@benchmark dividir_ordenar_intercalar($entrada_vetorizada, $mergesort, $true)"
   ]
  },
  {
   "cell_type": "code",
   "execution_count": 44,
   "metadata": {
    "execution": {
     "iopub.execute_input": "2020-07-01T23:15:23.594Z",
     "iopub.status.busy": "2020-07-01T23:15:23.563Z",
     "iopub.status.idle": "2020-07-01T23:15:43.122Z"
    },
    "jupyter": {
     "outputs_hidden": false,
     "source_hidden": false
    },
    "nteract": {
     "transient": {
      "deleting": false
     }
    }
   },
   "outputs": [
    {
     "data": {
      "text/plain": [
       "BenchmarkTools.Trial: \n",
       "  memory estimate:  1.72 GiB\n",
       "  allocs estimate:  6730780\n",
       "  --------------\n",
       "  minimum time:     1.932 s (22.82% GC)\n",
       "  median time:      2.103 s (25.80% GC)\n",
       "  mean time:        2.176 s (28.05% GC)\n",
       "  maximum time:     2.493 s (34.00% GC)\n",
       "  --------------\n",
       "  samples:          3\n",
       "  evals/sample:     1"
      ]
     },
     "execution_count": 44,
     "metadata": {},
     "output_type": "execute_result"
    }
   ],
   "source": [
    "#sem paralelismo\n",
    "@benchmark dividir_ordenar_intercalar($entrada_vetorizada, $mergesort, $false)"
   ]
  },
  {
   "cell_type": "code",
   "execution_count": 45,
   "metadata": {
    "execution": {
     "iopub.execute_input": "2020-07-01T23:16:10.129Z",
     "iopub.status.busy": "2020-07-01T23:16:10.089Z",
     "iopub.status.idle": "2020-07-01T23:16:12.892Z"
    },
    "jupyter": {
     "outputs_hidden": false,
     "source_hidden": false
    },
    "nteract": {
     "transient": {
      "deleting": false
     }
    }
   },
   "outputs": [
    {
     "name": "stdout",
     "output_type": "stream",
     "text": [
      "Está ordenado? sim"
     ]
    }
   ],
   "source": [
    "print(\"Está ordenado? \", dividir_ordenar_intercalar(entrada_vetorizada, mergesort, false) |> teste_ordenacao ? \"sim\" : \"não\")"
   ]
  },
  {
   "cell_type": "markdown",
   "metadata": {
    "nteract": {
     "transient": {
      "deleting": false
     }
    }
   },
   "source": [
    "#### Heapsort\n",
    "\n",
    "Previamente o heapsort completou a execução numa média de 239.7ms."
   ]
  },
  {
   "cell_type": "code",
   "execution_count": 49,
   "metadata": {
    "execution": {
     "iopub.execute_input": "2020-07-01T23:20:27.056Z",
     "iopub.status.busy": "2020-07-01T23:20:27.029Z",
     "iopub.status.idle": "2020-07-01T23:20:40.070Z"
    },
    "jupyter": {
     "outputs_hidden": false,
     "source_hidden": false
    },
    "nteract": {
     "transient": {
      "deleting": false
     }
    }
   },
   "outputs": [
    {
     "data": {
      "text/plain": [
       "BenchmarkTools.Trial: \n",
       "  memory estimate:  68.39 MiB\n",
       "  allocs estimate:  1542\n",
       "  --------------\n",
       "  minimum time:     59.021 ms (0.00% GC)\n",
       "  median time:      73.144 ms (0.00% GC)\n",
       "  mean time:        89.568 ms (13.62% GC)\n",
       "  maximum time:     251.943 ms (62.03% GC)\n",
       "  --------------\n",
       "  samples:          57\n",
       "  evals/sample:     1"
      ]
     },
     "execution_count": 49,
     "metadata": {},
     "output_type": "execute_result"
    }
   ],
   "source": [
    "@com paralelismo\n",
    "@benchmark dividir_ordenar_intercalar($entrada_vetorizada, $heapsort, $true)"
   ]
  },
  {
   "cell_type": "code",
   "execution_count": 47,
   "metadata": {
    "execution": {
     "iopub.execute_input": "2020-07-01T23:18:30.821Z",
     "iopub.status.busy": "2020-07-01T23:18:30.796Z",
     "iopub.status.idle": "2020-07-01T23:18:43.966Z"
    },
    "jupyter": {
     "outputs_hidden": false,
     "source_hidden": false
    },
    "nteract": {
     "transient": {
      "deleting": false
     }
    }
   },
   "outputs": [
    {
     "data": {
      "text/plain": [
       "BenchmarkTools.Trial: \n",
       "  memory estimate:  68.32 MiB\n",
       "  allocs estimate:  1026\n",
       "  --------------\n",
       "  minimum time:     84.938 ms (0.00% GC)\n",
       "  median time:      106.170 ms (0.00% GC)\n",
       "  mean time:        109.598 ms (3.97% GC)\n",
       "  maximum time:     175.629 ms (31.18% GC)\n",
       "  --------------\n",
       "  samples:          46\n",
       "  evals/sample:     1"
      ]
     },
     "execution_count": 47,
     "metadata": {},
     "output_type": "execute_result"
    }
   ],
   "source": [
    "#sem paralelismo\n",
    "@benchmark dividir_ordenar_intercalar($entrada_vetorizada, $heapsort, $false)"
   ]
  },
  {
   "cell_type": "code",
   "execution_count": 55,
   "metadata": {
    "execution": {
     "iopub.execute_input": "2020-07-01T23:23:56.344Z",
     "iopub.status.busy": "2020-07-01T23:23:56.324Z",
     "iopub.status.idle": "2020-07-01T23:23:56.753Z"
    },
    "jupyter": {
     "outputs_hidden": false,
     "source_hidden": false
    },
    "nteract": {
     "transient": {
      "deleting": false
     }
    }
   },
   "outputs": [
    {
     "name": "stdout",
     "output_type": "stream",
     "text": [
      "Está ordenado? sim"
     ]
    }
   ],
   "source": [
    "print(\"Está ordenado? \", dividir_ordenar_intercalar(entrada_vetorizada, heapsort, false) |> teste_ordenacao ? \"sim\" : \"não\")"
   ]
  },
  {
   "cell_type": "markdown",
   "metadata": {
    "nteract": {
     "transient": {
      "deleting": false
     }
    }
   },
   "source": [
    "#### Quicksort\n",
    "\n",
    "Previamente o quicksort completou a execução numa média de 63.19ms."
   ]
  },
  {
   "cell_type": "code",
   "execution_count": 50,
   "metadata": {
    "execution": {
     "iopub.execute_input": "2020-07-01T23:22:06.498Z",
     "iopub.status.busy": "2020-07-01T23:22:06.466Z",
     "iopub.status.idle": "2020-07-01T23:22:19.938Z"
    },
    "jupyter": {
     "outputs_hidden": false,
     "source_hidden": false
    },
    "nteract": {
     "transient": {
      "deleting": false
     }
    }
   },
   "outputs": [
    {
     "data": {
      "text/plain": [
       "BenchmarkTools.Trial: \n",
       "  memory estimate:  42.47 MiB\n",
       "  allocs estimate:  1032\n",
       "  --------------\n",
       "  minimum time:     44.617 ms (0.00% GC)\n",
       "  median time:      56.067 ms (0.00% GC)\n",
       "  mean time:        62.912 ms (5.86% GC)\n",
       "  maximum time:     171.732 ms (0.00% GC)\n",
       "  --------------\n",
       "  samples:          80\n",
       "  evals/sample:     1"
      ]
     },
     "execution_count": 50,
     "metadata": {},
     "output_type": "execute_result"
    }
   ],
   "source": [
    "#com paralelismo\n",
    "@benchmark dividir_ordenar_intercalar($entrada_vetorizada, $quicksort, $true)"
   ]
  },
  {
   "cell_type": "code",
   "execution_count": 51,
   "metadata": {
    "execution": {
     "iopub.execute_input": "2020-07-01T23:22:20.009Z",
     "iopub.status.busy": "2020-07-01T23:22:19.985Z",
     "iopub.status.idle": "2020-07-01T23:22:32.833Z"
    },
    "jupyter": {
     "outputs_hidden": false,
     "source_hidden": false
    },
    "nteract": {
     "transient": {
      "deleting": false
     }
    }
   },
   "outputs": [
    {
     "data": {
      "text/plain": [
       "BenchmarkTools.Trial: \n",
       "  memory estimate:  42.40 MiB\n",
       "  allocs estimate:  516\n",
       "  --------------\n",
       "  minimum time:     61.273 ms (0.00% GC)\n",
       "  median time:      76.649 ms (0.00% GC)\n",
       "  mean time:        80.125 ms (3.99% GC)\n",
       "  maximum time:     114.641 ms (18.36% GC)\n",
       "  --------------\n",
       "  samples:          63\n",
       "  evals/sample:     1"
      ]
     },
     "execution_count": 51,
     "metadata": {},
     "output_type": "execute_result"
    }
   ],
   "source": [
    "#sem paralelismo\n",
    "@benchmark dividir_ordenar_intercalar($entrada_vetorizada, $quicksort, $false)"
   ]
  },
  {
   "cell_type": "code",
   "execution_count": 56,
   "metadata": {
    "execution": {
     "iopub.execute_input": "2020-07-01T23:24:12.159Z",
     "iopub.status.busy": "2020-07-01T23:24:12.136Z",
     "iopub.status.idle": "2020-07-01T23:24:12.467Z"
    },
    "jupyter": {
     "outputs_hidden": false,
     "source_hidden": false
    },
    "nteract": {
     "transient": {
      "deleting": false
     }
    }
   },
   "outputs": [
    {
     "name": "stdout",
     "output_type": "stream",
     "text": [
      "Está ordenado? sim"
     ]
    }
   ],
   "source": [
    "print(\"Está ordenado? \", dividir_ordenar_intercalar(entrada_vetorizada, quicksort, false) |> teste_ordenacao ? \"sim\" : \"não\")"
   ]
  },
  {
   "cell_type": "markdown",
   "metadata": {
    "nteract": {
     "transient": {
      "deleting": false
     }
    }
   },
   "source": [
    "#### Insertion sort\n",
    "\n",
    "O insertion sort previamente completou a execução em 388.93 segundos."
   ]
  },
  {
   "cell_type": "code",
   "execution_count": 33,
   "metadata": {
    "execution": {
     "iopub.execute_input": "2020-07-01T23:08:40.479Z",
     "iopub.status.busy": "2020-07-01T23:08:40.459Z",
     "iopub.status.idle": "2020-07-01T23:08:52.449Z"
    },
    "jupyter": {
     "outputs_hidden": false,
     "source_hidden": false
    },
    "nteract": {
     "transient": {
      "deleting": false
     }
    },
    "scrolled": true
   },
   "outputs": [
    {
     "data": {
      "text/plain": [
       "BenchmarkTools.Trial: \n",
       "  memory estimate:  61.31 MiB\n",
       "  allocs estimate:  1202\n",
       "  --------------\n",
       "  minimum time:     31.601 ms (0.00% GC)\n",
       "  median time:      35.243 ms (0.00% GC)\n",
       "  mean time:        43.276 ms (12.96% GC)\n",
       "  maximum time:     166.260 ms (48.61% GC)\n",
       "  --------------\n",
       "  samples:          116\n",
       "  evals/sample:     1"
      ]
     },
     "execution_count": 33,
     "metadata": {},
     "output_type": "execute_result"
    }
   ],
   "source": [
    "#com paralelismo\n",
    "@benchmark dividir_ordenar_intercalar(\n",
    "    $entrada_vetorizada,\n",
    "    $insertionsort,\n",
    "    $true,\n",
    ")"
   ]
  },
  {
   "cell_type": "code",
   "execution_count": 35,
   "metadata": {
    "execution": {
     "iopub.execute_input": "2020-07-01T23:10:12.519Z",
     "iopub.status.busy": "2020-07-01T23:10:12.502Z",
     "iopub.status.idle": "2020-07-01T23:10:24.681Z"
    },
    "jupyter": {
     "outputs_hidden": false,
     "source_hidden": false
    },
    "nteract": {
     "transient": {
      "deleting": false
     }
    }
   },
   "outputs": [
    {
     "data": {
      "text/plain": [
       "BenchmarkTools.Trial: \n",
       "  memory estimate:  61.24 MiB\n",
       "  allocs estimate:  686\n",
       "  --------------\n",
       "  minimum time:     31.488 ms (0.00% GC)\n",
       "  median time:      35.457 ms (0.00% GC)\n",
       "  mean time:        41.127 ms (10.14% GC)\n",
       "  maximum time:     90.914 ms (49.76% GC)\n",
       "  --------------\n",
       "  samples:          122\n",
       "  evals/sample:     1"
      ]
     },
     "execution_count": 35,
     "metadata": {},
     "output_type": "execute_result"
    }
   ],
   "source": [
    "@sem paralelismo\n",
    "@benchmark dividir_ordenar_intercalar(\n",
    "    $entrada_vetorizada,\n",
    "    $insertionsort,\n",
    "    $false,\n",
    ")"
   ]
  },
  {
   "cell_type": "code",
   "execution_count": 41,
   "metadata": {
    "execution": {
     "iopub.execute_input": "2020-07-01T23:12:31.051Z",
     "iopub.status.busy": "2020-07-01T23:12:31.038Z",
     "iopub.status.idle": "2020-07-01T23:12:31.694Z"
    },
    "jupyter": {
     "outputs_hidden": false,
     "source_hidden": false
    },
    "nteract": {
     "transient": {
      "deleting": false
     }
    }
   },
   "outputs": [
    {
     "name": "stdout",
     "output_type": "stream",
     "text": [
      "Está ordenado? sim"
     ]
    }
   ],
   "source": [
    "print(\"Está ordenado? \", dividir_ordenar_intercalar(entrada_vetorizada, insertionsort, false) |> teste_ordenacao ? \"sim\" : \"não\")"
   ]
  },
  {
   "cell_type": "markdown",
   "metadata": {
    "nteract": {
     "transient": {
      "deleting": false
     }
    }
   },
   "source": [
    "### Segunda solução\n",
    "\n",
    "Os dados de entrada são inseridos em sua forma matricial."
   ]
  },
  {
   "cell_type": "code",
   "execution_count": 57,
   "metadata": {
    "execution": {
     "iopub.execute_input": "2020-07-01T23:41:42.308Z",
     "iopub.status.busy": "2020-07-01T23:41:42.288Z",
     "iopub.status.idle": "2020-07-01T23:41:42.438Z"
    },
    "jupyter": {
     "outputs_hidden": false,
     "source_hidden": false
    },
    "nteract": {
     "transient": {
      "deleting": false
     }
    }
   },
   "outputs": [
    {
     "data": {
      "text/plain": [
       "ordenacao_heap_max_min (generic function with 1 method)"
      ]
     },
     "execution_count": 57,
     "metadata": {},
     "output_type": "execute_result"
    }
   ],
   "source": [
    "# criação da ordenação através da composição da função intercalação de cada empresa via heap max e a aplicação da intercalação de k vetores via heap min.\n",
    "ordenacao_heap_max_min(\n",
    "    entrada_matricial::Array{Float64,3},\n",
    "    paralelizar::Bool,\n",
    ")::Vector{Tuple{Int64,Int64,Int64,Float64}} =\n",
    "    Algoritmos_Ordenacao.ordenacao_heap_2D(entrada_matricial, paralelizar) |>\n",
    "    Algoritmos_Ordenacao.intercalar_k_vetores_ordenados"
   ]
  },
  {
   "cell_type": "code",
   "execution_count": 60,
   "metadata": {
    "execution": {
     "iopub.execute_input": "2020-07-01T23:42:13.884Z",
     "iopub.status.busy": "2020-07-01T23:42:13.848Z",
     "iopub.status.idle": "2020-07-01T23:42:26.881Z"
    },
    "jupyter": {
     "outputs_hidden": false,
     "source_hidden": false
    },
    "nteract": {
     "transient": {
      "deleting": false
     }
    }
   },
   "outputs": [
    {
     "data": {
      "text/plain": [
       "BenchmarkTools.Trial: \n",
       "  memory estimate:  86.18 MiB\n",
       "  allocs estimate:  25816\n",
       "  --------------\n",
       "  minimum time:     145.474 ms (0.00% GC)\n",
       "  median time:      181.287 ms (0.00% GC)\n",
       "  mean time:        211.556 ms (10.35% GC)\n",
       "  maximum time:     618.778 ms (54.48% GC)\n",
       "  --------------\n",
       "  samples:          24\n",
       "  evals/sample:     1"
      ]
     },
     "execution_count": 60,
     "metadata": {},
     "output_type": "execute_result"
    }
   ],
   "source": [
    "#com paralelismo\n",
    "@benchmark ordenacao_heap_max_min($entrada_matricial, $true)"
   ]
  },
  {
   "cell_type": "code",
   "execution_count": 64,
   "metadata": {
    "execution": {
     "iopub.execute_input": "2020-07-01T23:42:42.429Z",
     "iopub.status.busy": "2020-07-01T23:42:42.404Z",
     "iopub.status.idle": "2020-07-01T23:42:55.738Z"
    },
    "jupyter": {
     "outputs_hidden": false,
     "source_hidden": false
    },
    "nteract": {
     "transient": {
      "deleting": false
     }
    }
   },
   "outputs": [
    {
     "data": {
      "text/plain": [
       "BenchmarkTools.Trial: \n",
       "  memory estimate:  86.10 MiB\n",
       "  allocs estimate:  25209\n",
       "  --------------\n",
       "  minimum time:     196.251 ms (0.00% GC)\n",
       "  median time:      250.040 ms (0.00% GC)\n",
       "  mean time:        254.343 ms (4.55% GC)\n",
       "  maximum time:     317.983 ms (18.80% GC)\n",
       "  --------------\n",
       "  samples:          20\n",
       "  evals/sample:     1"
      ]
     },
     "execution_count": 64,
     "metadata": {},
     "output_type": "execute_result"
    }
   ],
   "source": [
    "#sem paralelismo\n",
    "@benchmark ordenacao_heap_max_min($entrada_matricial, $false)"
   ]
  },
  {
   "cell_type": "code",
   "execution_count": 66,
   "metadata": {
    "execution": {
     "iopub.execute_input": "2020-07-01T23:43:35.623Z",
     "iopub.status.busy": "2020-07-01T23:43:35.591Z",
     "iopub.status.idle": "2020-07-01T23:43:36.104Z"
    },
    "jupyter": {
     "outputs_hidden": false,
     "source_hidden": false
    },
    "nteract": {
     "transient": {
      "deleting": false
     }
    }
   },
   "outputs": [
    {
     "name": "stdout",
     "output_type": "stream",
     "text": [
      "Está ordenado? sim"
     ]
    }
   ],
   "source": [
    "print(\"Está ordenado? \", ordenacao_heap_max_min(entrada_matricial, false) |> teste_ordenacao ? \"sim\" : \"não\")"
   ]
  },
  {
   "cell_type": "markdown",
   "metadata": {
    "colab_type": "text",
    "id": "gzdmlG03o9LB",
    "nteract": {
     "transient": {
      "deleting": false
     }
    }
   },
   "source": [
    "## l)\n",
    "Apresentar a complexidade da função descrita no item anterior, fazendo uso de notação assintótica e tendo como parâmetros somente a quantidade n de meses e a quantidade m de fornecedores. (Data de entrega: 25/06) (1,0 ponto)\n"
   ]
  },
  {
   "cell_type": "markdown",
   "metadata": {
    "colab_type": "text",
    "id": "a2dngwNuo9LD"
   },
   "source": [
    "**Θ(mn² log(mn²))**"
   ]
  }
 ],
 "metadata": {
  "colab": {
   "name": "Cópia de Apresentacao_projeto_2-checkpoint.ipynb",
   "provenance": [
    {
     "file_id": "https://github.com/eduardodut/projetos-algoritmos/blob/master/Projeto%202/.ipynb_checkpoints/Apresentacao_projeto_2-checkpoint.ipynb",
     "timestamp": 1593381274315
    }
   ]
  },
  "kernel_info": {
   "name": "python3"
  },
  "kernelspec": {
   "display_name": "JuliaPro_v1.4.2-1 1.4.2",
   "language": "julia",
   "name": "juliapro_v1.4.2-1-1.4"
  },
  "language_info": {
   "file_extension": ".jl",
   "mimetype": "application/julia",
   "name": "julia",
   "version": "1.4.2"
  },
  "nteract": {
   "version": "0.24.0"
  }
 },
 "nbformat": 4,
 "nbformat_minor": 1
}

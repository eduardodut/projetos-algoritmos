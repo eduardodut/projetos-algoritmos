{
  "cells": [
    {
      "cell_type": "markdown",
      "source": [
        "a) Realizar a leitura do arquivo de entrada, armazenando os dados dos contratos (0,5 ponto) (Data de entrega: 16/06):\n",
        "    1. Em um vetor de objetos do tipo contrato; e\n",
        "    2. Em uma matriz, indexada pelo fornecedor, pelo mês de início e pelo mês de fim do contrato, onde cada elemento armazena o valor do contrato respectivo.\n"
      ],
      "metadata": {
        "nteract": {
          "transient": {
            "deleting": false
          }
        }
      }
    },
    {
      "cell_type": "code",
      "source": [
        "@time begin\n",
        "\n",
        "linhas = readlines(\"Dados/entrada.txt\");\n",
        "\n",
        "\n",
        "parametros_iniciais = split(linhas[1], \" \");\n",
        "n = parse(Int64, parametros_iniciais[1]);\n",
        "m = parse(Int64, parametros_iniciais[2]);\n",
        "t = parse(Float64, parametros_iniciais[3]);\n",
        "\n",
        "linhas = linhas[2:end]\n",
        "\n",
        "entrada_vetorial = Array{Tuple}(undef, length(linhas))\n",
        "\n",
        "\n",
        "entrada_matricial = Array{Float64,3}(undef, m, n, n)\n",
        "\n",
        "for i = 1:length(linhas)\n",
        "    dados = split(linhas[i], \" \")\n",
        "    empresa = parse(Int64, dados[1])\n",
        "    mes_inicial = parse(Int64, dados[2])\n",
        "    mes_final = parse(Int64, dados[3])\n",
        "    valor = parse(Float64, dados[4])\n",
        "    entrada_vetorial[i] = (empresa, mes_inicial, mes_final, valor)\n",
        "    entrada_matricial[empresa, mes_inicial, mes_final] = valor\n",
        "\n",
        "\n",
        "end # for\n",
        "end #time"
      ],
      "outputs": [
        {
          "output_type": "stream",
          "name": "stdout",
          "text": [
            "  3.989461 seconds (10.17 M allocations: 374.703 MiB, 9.97% gc time)\n"
          ]
        }
      ],
      "execution_count": 1,
      "metadata": {
        "execution": {
          "iopub.status.busy": "2020-06-21T16:47:00.649Z",
          "iopub.execute_input": "2020-06-21T16:47:02.447Z",
          "iopub.status.idle": "2020-06-21T16:47:07.955Z"
        }
      }
    },
    {
      "cell_type": "markdown",
      "source": [
        "b) Explicar qual das duas maneiras de armazenamento dos dados é mais eficiente, em relação ao consumo de memória, tanto em termos assintóticos quanto em termos de absolutos. (Data de entrega: 18/06) (0,5 ponto)\n"
      ],
      "metadata": {
        "nteract": {
          "transient": {
            "deleting": false
          }
        }
      }
    },
    {
      "cell_type": "markdown",
      "source": [
        "c) Implementar o método de ordenação Insertion Sort para ordenar o vetor de objetos do tipo contrato. Criar um clone do vetor (simplesmente para não alterar a organização original dos dados) e aplicar o método de ordenação, exibindo ao final o tempo total de execução da ordenação. (Data de entrega: 16/06) (1,0 ponto)\n"
      ],
      "metadata": {
        "nteract": {
          "transient": {
            "deleting": false
          }
        }
      }
    },
    {
      "cell_type": "code",
      "source": [
        "include(\"Algoritmos/funcoes_ordenacao.jl\")\n",
        "\n",
        "tempo_insertion_sort = @elapsed ordenado_insertion_sort = funcoes_ordenacao.insertionsort(entrada_vetorial)\n",
        "\n",
        "println(\"Tempo decorrido: \",tempo_insertion_sort,\"s\")\n",
        "for i in ordenado_insertion_sort[1:100]\n",
        "  println(i)\n",
        "end"
      ],
      "outputs": [],
      "execution_count": 39,
      "metadata": {
        "collapsed": true,
        "jupyter": {
          "source_hidden": false,
          "outputs_hidden": false
        },
        "nteract": {
          "transient": {
            "deleting": false
          }
        },
        "execution": {
          "iopub.status.busy": "2020-06-21T16:53:23.480Z",
          "iopub.execute_input": "2020-06-21T16:53:23.488Z",
          "iopub.status.idle": "2020-06-21T16:53:07.336Z"
        }
      }
    },
    {
      "cell_type": "markdown",
      "source": [
        "d) Apresentar a complexidade da função descrita no item anterior, fazendo uso de notação assintótica e tendo como parâmetros somente a quantidade n de meses e a quantidade m de fornecedores. (Data de entrega: 18/06) (0,5 ponto)\n"
      ],
      "metadata": {
        "nteract": {
          "transient": {
            "deleting": false
          }
        }
      }
    },
    {
      "cell_type": "markdown",
      "source": [
        "e) Implementar o método de ordenação Mergesort para ordenar o vetor de objetos do tipo contrato. Criar um clone do vetor e aplicar o método de ordenação, exibindo ao final o tempo total de execução da ordenação. (Data de entrega: 23/06) (1,0 ponto)\n"
      ],
      "metadata": {
        "nteract": {
          "transient": {
            "deleting": false
          }
        }
      }
    },
    {
      "cell_type": "markdown",
      "source": [
        "f) Apresentar a complexidade da função descrita no item anterior, fazendo uso de notação assintótica e tendo como parâmetros somente a quantidade n de meses e a quantidade m de fornecedores. (Data de entrega: 23/06) (0,5 ponto)\n"
      ],
      "metadata": {
        "nteract": {
          "transient": {
            "deleting": false
          }
        }
      }
    },
    {
      "cell_type": "markdown",
      "source": [
        "g) Implementar o método de ordenação Heapsort para ordenar o vetor de objetos do tipo contrato. Criar um clone do vetor e aplicar o método de ordenação, exibindo ao final o tempo total de execução da ordenação. (Data de entrega: 23/06) (1,0 ponto)\n"
      ],
      "metadata": {
        "nteract": {
          "transient": {
            "deleting": false
          }
        }
      }
    },
    {
      "cell_type": "markdown",
      "source": [
        "h) Apresentar a complexidade da função descrita no item anterior, fazendo uso de notação assintótica e tendo como parâmetros somente a quantidade n de meses e a quantidade m de fornecedores. (Data de entrega: 23/06) (0,5 ponto)\n"
      ],
      "metadata": {
        "nteract": {
          "transient": {
            "deleting": false
          }
        }
      }
    },
    {
      "cell_type": "markdown",
      "source": [
        "i) Implementar o método de ordenação Quicksort para ordenar o vetor de objetos do tipo contrato. Criar um clone do vetor e aplicar o método de ordenação, exibindo ao final o tempo total de execução da ordenação. (Data de entrega: 23/06) (1,0 ponto)\n"
      ],
      "metadata": {
        "nteract": {
          "transient": {
            "deleting": false
          }
        }
      }
    },
    {
      "cell_type": "markdown",
      "source": [
        "j) Apresentar a complexidade da função descrita no item anterior, fazendo uso de notação assintótica e tendo como parâmetros somente a quantidade n de meses e a quantidade m de fornecedores. (Data de entrega: 23/06) (0,5 ponto)\n"
      ],
      "metadata": {
        "nteract": {
          "transient": {
            "deleting": false
          }
        }
      }
    },
    {
      "cell_type": "markdown",
      "source": [
        "k) Baseando-se nas ideias dos algoritmos apresentados, criar um método de ordenação que, entretanto, explore as regras de formação de preços de contratos de um fornecedor (expressas na matriz de contratos), para realizar a ordenação dos contratos pelo valor, exibindo ao final o tempo total de execução da ordenação. (Data de entrega: 25/06) (2,0 pontos)\n"
      ],
      "metadata": {
        "nteract": {
          "transient": {
            "deleting": false
          }
        }
      }
    },
    {
      "cell_type": "markdown",
      "source": [
        "l) Apresentar a complexidade da função descrita no item anterior, fazendo uso de notação assintótica e tendo como parâmetros somente a quantidade n de meses e a quantidade m de fornecedores. (Data de entrega: 25/06) (1,0 ponto)\n"
      ],
      "metadata": {
        "nteract": {
          "transient": {
            "deleting": false
          }
        }
      }
    }
  ],
  "metadata": {
    "kernel_info": {
      "name": "python3"
    },
    "kernelspec": {
      "display_name": "JuliaPro_v1.4.2-1 1.4.2",
      "language": "julia",
      "name": "juliapro_v1.4.2-1-1.4"
    },
    "language_info": {
      "file_extension": ".jl",
      "name": "julia",
      "mimetype": "application/julia",
      "version": "1.4.2"
    },
    "nteract": {
      "version": "0.23.3"
    }
  },
  "nbformat": 4,
  "nbformat_minor": 4
}
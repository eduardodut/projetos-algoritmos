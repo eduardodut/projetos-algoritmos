{
 "cells": [
  {
   "cell_type": "markdown",
   "metadata": {
    "nteract": {
     "transient": {
      "deleting": false
     }
    }
   },
   "source": [
    "# Construção e análise de algoritmos\n",
    "## Trabalho 02\n",
    "### Equipe:\n",
    " - Eduardo Façanha\n",
    " - Giovanni Brígido\n",
    " - João David\n",
    " - Maurício\n",
    " - Nicole Rocha\n",
    " - Tiago Ponte\n",
    "\n",
    "##### Todo o código está acessível em: \n",
    "https://github.com/eduardodut/projetos-algoritmos/tree/master/Projeto%202\n",
    "\n"
   ]
  },
  {
   "cell_type": "markdown",
   "metadata": {
    "colab_type": "text",
    "id": "bsiCd-7Mo9JJ",
    "nteract": {
     "transient": {
      "deleting": false
     }
    }
   },
   "source": [
    "## a)\n",
    "Realizar a leitura do arquivo de entrada, armazenando os dados dos contratos (0,5 ponto) (Data de entrega: 16/06):\n",
    "    1. Em um vetor de objetos do tipo contrato; e\n",
    "    2. Em uma matriz, indexada pelo fornecedor, pelo mês de início e pelo mês de fim do contrato, onde cada elemento armazena o valor do contrato respectivo."
   ]
  },
  {
   "cell_type": "markdown",
   "metadata": {
    "colab_type": "text",
    "id": "L_EUv7yvo9JM"
   },
   "source": [
    "### Import do código desenvolvido para o trabalho"
   ]
  },
  {
   "cell_type": "code",
   "execution_count": 296,
   "metadata": {
    "colab": {},
    "colab_type": "code",
    "execution": {
     "iopub.execute_input": "2020-07-02T16:36:58.936Z",
     "iopub.status.busy": "2020-07-02T16:36:58.905Z",
     "iopub.status.idle": "2020-07-02T16:36:59.117Z"
    },
    "id": "zARWYZbno9JO"
   },
   "outputs": [
    {
     "name": "stderr",
     "output_type": "stream",
     "text": [
      "WARNING: replacing module Algoritmos_Ordenacao.\n",
      "WARNING: replacing module Inicializacao.\n",
      "WARNING: replacing module Saida.\n",
      "WARNING: replacing module Grafico.\n"
     ]
    },
    {
     "data": {
      "text/plain": [
       "calculo_tempo_medio (generic function with 1 method)"
      ]
     },
     "execution_count": 296,
     "metadata": {},
     "output_type": "execute_result"
    }
   ],
   "source": [
    "include(\"Algoritmos/Algoritmos_Ordenacao.jl\")\n",
    "include(\"Algoritmos/Inicializacao.jl\")\n",
    "include(\"Algoritmos/Saida.jl\")\n",
    "include(\"Algoritmos/Grafico.jl\")\n",
    "\n",
    "using BenchmarkTools, Juno, DataFrames, Plots, StatsPlots\n",
    "\n",
    "insertionsort! = Algoritmos_Ordenacao.insertionsort!\n",
    "mergesort! = Algoritmos_Ordenacao.mergesort!\n",
    "heapsort! = Algoritmos_Ordenacao.heapsort!\n",
    "quicksort!(vetor::Vector{Tuple{Int64,Int64,Int64,Float64}})::Vector{Tuple{Int64,Int64,Int64,Float64}} = Algoritmos_Ordenacao.quicksort!(vetor,1,length(vetor))\n",
    "\n",
    "\n",
    "formata_ms = Saida.formata_ms\n",
    "formata_s = Saida.formata_s\n",
    "formata_casas = Saida.formata_casas_decimais\n",
    "\n",
    "teste_ordenacao(vetor::Vector{Tuple{Int64,Int64,Int64,Float64}})::Bool = issorted(DataFrame(vetor)[!, 4]) ? true : false\n",
    "\n",
    "function calculo_tempo_medio(vetor::Vector{Tuple{Int64,Int64,Int64,Float64}}, iteracoes::Int64, funcao_ordenacao)::Float64\n",
    "    tempo = 0.0\n",
    "    Juno.@progress for i in 1:iteracoes\n",
    "      entrada = copy(vetor)\n",
    "      tempo = tempo + @elapsed funcao_ordenacao(entrada)\n",
    "    end\n",
    "    return tempo / Float64(iteracoes)\n",
    "end\n",
    "\n"
   ]
  },
  {
   "cell_type": "markdown",
   "metadata": {
    "colab_type": "text",
    "id": "KJwyAk3no9Jb"
   },
   "source": [
    "### Inicialização das variáveis"
   ]
  },
  {
   "cell_type": "code",
   "execution_count": 297,
   "metadata": {
    "colab": {},
    "colab_type": "code",
    "execution": {
     "iopub.execute_input": "2020-07-02T15:52:33.603Z",
     "iopub.status.busy": "2020-07-02T15:52:33.539Z",
     "iopub.status.idle": "2020-07-02T15:52:37.076Z"
    },
    "id": "fXyW2q6Ro9Jd"
   },
   "outputs": [
    {
     "name": "stderr",
     "output_type": "stream",
     "text": [
      "WARNING: redefining constant entrada_matricial\n",
      "WARNING: redefining constant entrada_vetorizada\n"
     ]
    },
    {
     "data": {
      "text/plain": [
       "120"
      ]
     },
     "execution_count": 297,
     "metadata": {},
     "output_type": "execute_result"
    }
   ],
   "source": [
    "var = Inicializacao.inicializar_variaveis(\"Dados/entrada.txt\")\n",
    "const entrada_matricial = var[1]\n",
    "const entrada_vetorizada = var[2]\n",
    "const m = var[3]\n",
    "const n = var[4]"
   ]
  },
  {
   "cell_type": "markdown",
   "metadata": {
    "colab_type": "text",
    "id": "Fv9C-bRyo9Jv",
    "nteract": {
     "transient": {
      "deleting": false
     }
    }
   },
   "source": [
    "## b) \n",
    "Explicar qual das duas maneiras de armazenamento dos dados é mais eficiente, em relação ao consumo de memória, tanto em termos assintóticos quanto em termos de absolutos. (Data de entrega: 18/06) (0,5 ponto)"
   ]
  },
  {
   "cell_type": "code",
   "execution_count": 298,
   "metadata": {
    "colab": {
     "base_uri": "https://localhost:8080/",
     "height": 231
    },
    "colab_type": "code",
    "execution": {
     "iopub.execute_input": "2020-07-02T15:53:06.270Z",
     "iopub.status.busy": "2020-07-02T15:53:06.216Z",
     "iopub.status.idle": "2020-07-02T15:53:06.920Z"
    },
    "executionInfo": {
     "elapsed": 1316,
     "status": "error",
     "timestamp": 1593377429183,
     "user": {
      "displayName": "",
      "photoUrl": "",
      "userId": ""
     },
     "user_tz": 180
    },
    "id": "GCfhRcico9Jw",
    "outputId": "43353f63-bf90-42ae-a753-215b4a490649"
   },
   "outputs": [
    {
     "name": "stdout",
     "output_type": "stream",
     "text": [
      "n_posicoes_entrada_vetorizada :2904000\n",
      "n_posicoes_entrada_matricial :1440000\n",
      "0.49586776859504134"
     ]
    }
   ],
   "source": [
    "\"\"\"\n",
    "O número de posições da entrada vetorizada é 4*m*n*(n+1)/2, onde 4 é o número de dados por contrato \n",
    "e o restante da expressão representa o número de linhas do arquivo. \n",
    "A estrutura é densa, todas as posições são ocupadas, pois todos os dados do contrato são guardados nessa estrutura.  \n",
    "Assintóticamente, a complexida de espaço é: Θ(2mn(n+1)) -> Θ(mn²)\n",
    "\"\"\" \n",
    "n_posicoes_entrada_vetorizada = 4*length(entrada_vetorizada) \n",
    "println(\"n_posicoes_entrada_vetorizada :\",n_posicoes_entrada_vetorizada)\n",
    "\n",
    "\"\"\"\n",
    "A entrada matricial é um vetor de 3 dimensões, onde cada dimensão é representada pela empresa,\n",
    "mes_inicial e mes_final do contrato, e apenas o valor do contrato é guardado nessa estrutura.\n",
    "\n",
    "entrada_matricial[empresa, mes_inicial, mes_final] = valor\n",
    "\n",
    "entrada_matricial[100, 120, 120]\n",
    "\n",
    "A estrutura é esparsa, pois reserva espaços para contratos que não existem. No total são reservadas\n",
    "m*n^2 posições de memória.\n",
    "Assintóticamente, a complexida de espaço é: Θ(mn²)\n",
    "\"\"\" \n",
    "\n",
    "n_posicoes_entrada_matricial = length(entrada_matricial)\n",
    "println(\"n_posicoes_entrada_matricial :\",n_posicoes_entrada_matricial)\n",
    "print(n_posicoes_entrada_matricial/n_posicoes_entrada_vetorizada)"
   ]
  },
  {
   "cell_type": "markdown",
   "metadata": {
    "colab_type": "text",
    "id": "YjnDgyxTo9J4",
    "nteract": {
     "transient": {
      "deleting": false
     }
    }
   },
   "source": [
    "## c) \n",
    "Implementar o método de ordenação Insertion Sort para ordenar o vetor de objetos do tipo contrato. Criar um clone do vetor (simplesmente para não alterar a organização original dos dados) e aplicar o método de ordenação, exibindo ao final o tempo total de execução da ordenação. (Data de entrega: 16/06) (1,0 ponto)\n"
   ]
  },
  {
   "cell_type": "code",
   "execution_count": 299,
   "metadata": {
    "colab": {},
    "colab_type": "code",
    "execution": {
     "iopub.execute_input": "2020-07-02T15:53:07.002Z",
     "iopub.status.busy": "2020-07-02T15:53:06.965Z",
     "iopub.status.idle": "2020-07-02T16:07:15.613Z"
    },
    "id": "Vzgnh_ISo9J6",
    "nteract": {
     "transient": {
      "deleting": false
     }
    },
    "outputId": "f87c6b57-8e23-4440-9a8c-52690e7f7351"
   },
   "outputs": [
    {
     "name": "stdout",
     "output_type": "stream",
     "text": [
      " \n"
     ]
    }
   ],
   "source": [
    "entrada = copy(entrada_vetorizada)\n",
    "tempo_insertionsort = @elapsed ordenado_insertion_sort =\n",
    "    insertionsort(entrada)\n",
    "println(\" \")"
   ]
  },
  {
   "cell_type": "code",
   "execution_count": 300,
   "metadata": {},
   "outputs": [
    {
     "name": "stdout",
     "output_type": "stream",
     "text": [
      "Duração: 383.27 s.\n"
     ]
    }
   ],
   "source": [
    "println(\"Duração: \", formata_casas(tempo_insertionsort), \" s.\")"
   ]
  },
  {
   "cell_type": "code",
   "execution_count": 301,
   "metadata": {
    "execution": {
     "iopub.execute_input": "2020-07-02T16:07:15.680Z",
     "iopub.status.busy": "2020-07-02T16:07:15.660Z",
     "iopub.status.idle": "2020-07-02T16:15:01.251Z"
    },
    "jupyter": {
     "outputs_hidden": false,
     "source_hidden": false
    },
    "nteract": {
     "transient": {
      "deleting": false
     }
    }
   },
   "outputs": [
    {
     "name": "stdout",
     "output_type": "stream",
     "text": [
      "Está ordenado? sim"
     ]
    }
   ],
   "source": [
    "print(\"Está ordenado? \", insertionsort(ordenado_insertion_sort) |> teste_ordenacao ? \"sim\" : \"não\")"
   ]
  },
  {
   "cell_type": "markdown",
   "metadata": {
    "colab_type": "text",
    "id": "MfsmfGa5o9Kh",
    "nteract": {
     "transient": {
      "deleting": false
     }
    }
   },
   "source": [
    "## d) \n",
    "Apresentar a complexidade da função descrita no item anterior, fazendo uso de notação assintótica e tendo como parâmetros somente a quantidade n de meses e a quantidade m de fornecedores. (Data de entrega: 18/06) (0,5 ponto)\n"
   ]
  },
  {
   "cell_type": "markdown",
   "metadata": {
    "colab_type": "text",
    "id": "0iOHXSL9o9Kk"
   },
   "source": [
    "**Θ(m²n⁴)**, pois o número de linhas do arquivo é função do número de empresas (m) e do número de meses (n). Para um caso genérico o insertion sort possui o melhor caso **Θ(n)** e pior caso **Θ(n²)**.\n",
    "\n"
   ]
  },
  {
   "cell_type": "markdown",
   "metadata": {
    "colab_type": "text",
    "id": "mHUn0t0vo9Km",
    "nteract": {
     "transient": {
      "deleting": false
     }
    }
   },
   "source": [
    "## e)\n",
    "Implementar o método de ordenação **Mergesort** para ordenar o vetor de objetos do tipo contrato. Criar um clone do vetor e aplicar o método de ordenação, exibindo ao final o tempo total de execução da ordenação. (Data de entrega: 23/06) (1,0 ponto)\n"
   ]
  },
  {
   "cell_type": "code",
   "execution_count": 302,
   "metadata": {
    "execution": {
     "iopub.execute_input": "2020-07-02T16:36:59.192Z",
     "iopub.status.busy": "2020-07-02T16:36:59.164Z",
     "iopub.status.idle": "2020-07-02T16:18:00.409Z"
    },
    "jupyter": {
     "outputs_hidden": false,
     "source_hidden": false
    },
    "nteract": {
     "transient": {
      "deleting": false
     }
    }
   },
   "outputs": [
    {
     "name": "stdout",
     "output_type": "stream",
     "text": [
      "Duração média: 2643.12 ms.\n"
     ]
    }
   ],
   "source": [
    "tempo_mergesort = calculo_tempo_medio(entrada_vetorizada, 100, mergesort)\n",
    "println(\"Duração média: \", formata_casas(tempo_mergesort*1000.0), \" ms.\")"
   ]
  },
  {
   "cell_type": "code",
   "execution_count": 323,
   "metadata": {
    "execution": {
     "iopub.execute_input": "2020-07-02T16:17:56.473Z",
     "iopub.status.busy": "2020-07-02T16:17:56.364Z",
     "iopub.status.idle": "2020-07-02T16:18:00.279Z"
    },
    "jupyter": {
     "outputs_hidden": false,
     "source_hidden": false
    },
    "nteract": {
     "transient": {
      "deleting": false
     }
    }
   },
   "outputs": [
    {
     "name": "stdout",
     "output_type": "stream",
     "text": [
      "Está ordenado? sim"
     ]
    }
   ],
   "source": [
    "print(\"Está ordenado? \", mergesort(copy(entrada_vetorizada)) |> teste_ordenacao ? \"sim\" : \"não\")"
   ]
  },
  {
   "cell_type": "markdown",
   "metadata": {
    "colab_type": "text",
    "id": "6UqCJRQyo9Ko",
    "nteract": {
     "transient": {
      "deleting": false
     }
    }
   },
   "source": [
    "## f) \n",
    "Apresentar a complexidade da função descrita no item anterior, fazendo uso de notação assintótica e tendo como parâmetros somente a quantidade n de meses e a quantidade m de fornecedores. (Data de entrega: 23/06) (0,5 ponto)\n"
   ]
  },
  {
   "cell_type": "markdown",
   "metadata": {
    "colab": {},
    "colab_type": "code",
    "collapsed": true,
    "execution": {
     "iopub.execute_input": "2020-07-02T16:15:31.215Z",
     "iopub.status.busy": "2020-07-02T16:15:31.179Z",
     "iopub.status.idle": "2020-07-02T16:15:31.596Z"
    },
    "id": "As0KOVg-vvkY"
   },
   "source": [
    "\"\"\"\n",
    "O merge sort é um exemplo de algoritmo de ordenação por comparação do tipo dividir-para-conquistar.  \n",
    "Sua ideia básica consiste em Dividir (o problema em vários subproblemas e resolver esses subproblemas através da recursividade)  \n",
    "e Conquistar (após todos os subproblemas terem sido resolvidos ocorre a conquista que é a união das resoluções dos subproblemas).  \n",
    "A complexida: Θ(mn² log(mn²)).\n",
    "\n",
    "\n",
    "\"\"\" "
   ]
  },
  {
   "cell_type": "markdown",
   "metadata": {
    "colab_type": "text",
    "id": "7SFDYI3mo9Kp",
    "nteract": {
     "transient": {
      "deleting": false
     }
    }
   },
   "source": [
    "## g)\n",
    "Implementar o método de ordenação **Heapsort** para ordenar o vetor de objetos do tipo contrato. Criar um clone do vetor e aplicar o método de ordenação, exibindo ao final o tempo total de execução da ordenação. (Data de entrega: 23/06) (1,0 ponto)\n"
   ]
  },
  {
   "cell_type": "code",
   "execution_count": 304,
   "metadata": {
    "execution": {
     "iopub.execute_input": "2020-07-02T16:15:31.673Z",
     "iopub.status.busy": "2020-07-02T16:15:31.640Z",
     "iopub.status.idle": "2020-07-02T16:15:44.547Z"
    },
    "jupyter": {
     "outputs_hidden": false,
     "source_hidden": false
    },
    "nteract": {
     "transient": {
      "deleting": false
     }
    }
   },
   "outputs": [
    {
     "name": "stdout",
     "output_type": "stream",
     "text": [
      "Duração média: 239.33 ms.\n"
     ]
    }
   ],
   "source": [
    "tempo_heapsort = calculo_tempo_medio(entrada_vetorizada, 100, heapsort)\n",
    "println(\"Duração média: \", formata_casas(tempo_heapsort*1000.0), \" ms.\")"
   ]
  },
  {
   "cell_type": "code",
   "execution_count": 305,
   "metadata": {
    "execution": {
     "iopub.execute_input": "2020-07-02T16:15:44.609Z",
     "iopub.status.busy": "2020-07-02T16:15:44.579Z",
     "iopub.status.idle": "2020-07-02T16:15:45.345Z"
    },
    "jupyter": {
     "outputs_hidden": false,
     "source_hidden": false
    },
    "nteract": {
     "transient": {
      "deleting": false
     }
    }
   },
   "outputs": [
    {
     "name": "stdout",
     "output_type": "stream",
     "text": [
      "Está ordenado? sim"
     ]
    }
   ],
   "source": [
    "print(\"Está ordenado? \", heapsort(copy(entrada_vetorizada)) |> teste_ordenacao ? \"sim\" : \"não\")"
   ]
  },
  {
   "cell_type": "markdown",
   "metadata": {
    "colab_type": "text",
    "id": "bsWrSVJoo9Kr",
    "nteract": {
     "transient": {
      "deleting": false
     }
    }
   },
   "source": [
    "## h)\n",
    "Apresentar a complexidade da função descrita no item anterior, fazendo uso de notação assintótica e tendo como parâmetros somente a quantidade n de meses e a quantidade m de fornecedores. (Data de entrega: 23/06) (0,5 ponto)\n"
   ]
  },
  {
   "cell_type": "markdown",
   "metadata": {
    "colab": {},
    "colab_type": "code",
    "collapsed": true,
    "execution": {
     "iopub.execute_input": "2020-07-02T16:15:45.440Z",
     "iopub.status.busy": "2020-07-02T16:15:45.398Z",
     "iopub.status.idle": "2020-07-02T16:15:45.503Z"
    },
    "id": "nUCyLmvF17-f"
   },
   "source": [
    "\"\"\"\n",
    "O algoritmo heapsort é um algoritmo de ordenação generalista, e faz parte da família de algoritmos de ordenação por seleção.  \n",
    "Tem um desempenho em tempo de execução muito bom em conjuntos ordenados aleatoriamente, tem um uso de memória bem comportado  \n",
    "e o seu desempenho em pior cenário é praticamente igual ao desempenho em cenário médio. Como o Insertion Sort, mas diferentemente  \n",
    "do Merge Sort, o Heapsort é um algoritmo do tipo local: apenas um número constante de elementos do array é armazenado fora do  \n",
    "array de entrada durante a sua execução. Assim, o Heapsort combina os melhores atributos dos dois algoritmos de classificação citados.  \n",
    "A complexida: Θ(mn² lg(mn²)).\n",
    "\"\"\" "
   ]
  },
  {
   "cell_type": "markdown",
   "metadata": {
    "colab_type": "text",
    "id": "Cg0tjIt3o9Ks",
    "nteract": {
     "transient": {
      "deleting": false
     }
    }
   },
   "source": [
    "## i)\n",
    "Implementar o método de ordenação **Quicksort** para ordenar o vetor de objetos do tipo contrato. Criar um clone do vetor e aplicar o método de ordenação, exibindo ao final o tempo total de execução da ordenação. (Data de entrega: 23/06) (1,0 ponto)\n"
   ]
  },
  {
   "cell_type": "code",
   "execution_count": 306,
   "metadata": {
    "execution": {
     "iopub.execute_input": "2020-07-02T16:15:45.570Z",
     "iopub.status.busy": "2020-07-02T16:15:45.545Z",
     "iopub.status.idle": "2020-07-02T16:15:48.979Z"
    },
    "jupyter": {
     "outputs_hidden": false,
     "source_hidden": false
    },
    "nteract": {
     "transient": {
      "deleting": false
     }
    }
   },
   "outputs": [
    {
     "name": "stdout",
     "output_type": "stream",
     "text": [
      "Duração média: 143.13 ms.\n"
     ]
    }
   ],
   "source": [
    "tempo_quicksort = calculo_tempo_medio(entrada_vetorizada, 100, quicksort)\n",
    "println(\"Duração média: \", formata_casas(tempo_quicksort*1000), \" ms.\")"
   ]
  },
  {
   "cell_type": "code",
   "execution_count": 307,
   "metadata": {
    "execution": {
     "iopub.execute_input": "2020-07-02T16:15:49.042Z",
     "iopub.status.busy": "2020-07-02T16:15:49.016Z",
     "iopub.status.idle": "2020-07-02T16:15:49.087Z"
    },
    "jupyter": {
     "outputs_hidden": false,
     "source_hidden": false
    },
    "nteract": {
     "transient": {
      "deleting": false
     }
    }
   },
   "outputs": [
    {
     "name": "stdout",
     "output_type": "stream",
     "text": [
      "Está ordenado? sim"
     ]
    }
   ],
   "source": [
    "print(\"Está ordenado? \", quicksort(copy(entrada_vetorizada)) |> teste_ordenacao ? \"sim\" : \"não\")"
   ]
  },
  {
   "cell_type": "markdown",
   "metadata": {
    "colab_type": "text",
    "id": "9EAY1jGoo9Kt",
    "nteract": {
     "transient": {
      "deleting": false
     }
    }
   },
   "source": [
    "## j)\n",
    "Apresentar a complexidade da função descrita no item anterior, fazendo uso de notação assintótica e tendo como parâmetros somente a quantidade n de meses e a quantidade m de fornecedores. (Data de entrega: 23/06) (0,5 ponto)\n"
   ]
  },
  {
   "cell_type": "markdown",
   "metadata": {
    "colab": {},
    "colab_type": "code",
    "collapsed": true,
    "execution": {
     "iopub.execute_input": "2020-07-02T16:15:49.142Z",
     "iopub.status.busy": "2020-07-02T16:15:49.116Z",
     "iopub.status.idle": "2020-07-02T16:15:49.195Z"
    },
    "id": "r4Q0b_0B4WCQ"
   },
   "source": [
    "\"\"\"\n",
    "O quicksort adota a estratégia de divisão e conquista. A estratégia consiste em rearranjar as chaves de modo que as chaves  \n",
    "\"menores\" precedam as chaves \"maiores\". Em seguida o quicksort ordena as duas sublistas de chaves menores e maiores\n",
    "recursivamente até que a lista completa se encontre ordenada.\n",
    "Complexidade: Θ(mn² log(mn²)\n",
    "\n",
    "Complexida de pior caso genérico: Θ(n²).  \n",
    "Complexidade de melhor caso genérico: Θ(nlog(n)). \n",
    "\"\"\" "
   ]
  },
  {
   "cell_type": "markdown",
   "metadata": {
    "colab_type": "text",
    "id": "SR0NmBVyo9Ku",
    "nteract": {
     "transient": {
      "deleting": false
     }
    }
   },
   "source": [
    "## k)\n",
    "Baseando-se nas ideias dos algoritmos apresentados, criar um método de ordenação que, entretanto, explore as regras de formação de preços de contratos de um fornecedor (expressas na matriz de contratos), para realizar a ordenação dos contratos pelo valor, exibindo ao final o tempo total de execução da ordenação. (Data de entrega: 25/06) (2,0 pontos)\n"
   ]
  },
  {
   "cell_type": "markdown",
   "metadata": {
    "colab_type": "text",
    "id": "1Ad0Nm5jo9Kw"
   },
   "source": [
    "A solução desenvolvida consiste em separar as o arquivo em 100 vetores, através do cálculo dos índices de início e fim de cada empresa, aproveitando-se da estrutura de formação do arquivo, e aplicando um algoritmo de ordenação. Após a ordenação individual é realizado o merge dos 100 vetores através do método de heap mínimo.\n",
    "\n",
    "Um dos parâmetros da função de divisão em empresa é o algoritmo de ordenação que será aplicado. Para a apresentação foi escolhido o insertionsort como algoritmo de ordenação individual.\n",
    "\n",
    "Por utilizarmos a estratégia de divisão do problema em problemas independentes, foi implementado um argumento booleano para selecionar ou não a execução em paralelo da ordenação individual de cada empresa. Os resultados são mostrados nas células a seguir."
   ]
  },
  {
   "cell_type": "code",
   "execution_count": 308,
   "metadata": {
    "execution": {
     "iopub.execute_input": "2020-07-02T16:21:45.641Z",
     "iopub.status.busy": "2020-07-02T16:21:45.623Z",
     "iopub.status.idle": "2020-07-02T16:21:45.765Z"
    },
    "jupyter": {
     "outputs_hidden": false,
     "source_hidden": false
    },
    "nteract": {
     "transient": {
      "deleting": false
     }
    }
   },
   "outputs": [
    {
     "data": {
      "text/plain": [
       "calculo_tempo_divisao_ordenacao (generic function with 1 method)"
      ]
     },
     "execution_count": 308,
     "metadata": {},
     "output_type": "execute_result"
    }
   ],
   "source": [
    "#criação da função dividir_ordenar_intercalar através da composição da estratégia de divisão entre empresas e a aplicação da intercalação de k vetores.\n",
    "\n",
    "dividir_ordenar_intercalar(\n",
    "    entrada_vetorizada::Vector{Tuple{Int64,Int64,Int64,Float64}},\n",
    "    funcao_ordenacao,\n",
    "    paralelizar::Bool,\n",
    ")::Vector{Tuple{Int64,Int64,Int64,Float64}} =\n",
    "    Algoritmos_Ordenacao.dividir_e_ordenar(\n",
    "        entrada_vetorizada,\n",
    "        funcao_ordenacao,\n",
    "        paralelizar,\n",
    "    ) |> Algoritmos_Ordenacao.intercalar_k_vetores_ordenados\n",
    "\n",
    "function calculo_tempo_divisao_ordenacao(::Vector{Tuple{Int64,Int64,Int64,Float64}},\n",
    "    iteracoes::Int64,\n",
    "    funcao_ordenacao,\n",
    "    paralelizar::Bool)::Float64\n",
    "  t = 0.0\n",
    "  for i in 1:100\n",
    "    entrada = copy(entrada_vetorizada)\n",
    "    t = t + @elapsed dividir_ordenar_intercalar(entrada, funcao_ordenacao, paralelizar)\n",
    "  end\n",
    "  \n",
    "  return t/Float64(iteracoes)\n",
    "\n",
    "    \n",
    "end\n"
   ]
  },
  {
   "cell_type": "code",
   "execution_count": 309,
   "metadata": {
    "execution": {
     "iopub.execute_input": "2020-07-02T16:17:00.853Z",
     "iopub.status.busy": "2020-07-02T16:17:00.833Z",
     "iopub.status.idle": "2020-07-02T16:17:00.891Z"
    }
   },
   "outputs": [
    {
     "name": "stdout",
     "output_type": "stream",
     "text": [
      "Previamente, o insertionsort completou a execução em 383.27 s.\n"
     ]
    }
   ],
   "source": [
    "println(\"Previamente, o insertionsort completou a execução em \",formata_casas(tempo_insertionsort),\" s.\")"
   ]
  },
  {
   "cell_type": "code",
   "execution_count": 319,
   "metadata": {
    "execution": {
     "iopub.execute_input": "2020-07-02T16:17:00.953Z",
     "iopub.status.busy": "2020-07-02T16:17:00.923Z",
     "iopub.status.idle": "2020-07-02T16:17:13.566Z"
    },
    "jupyter": {
     "outputs_hidden": false,
     "source_hidden": false
    },
    "nteract": {
     "transient": {
      "deleting": false
     }
    }
   },
   "outputs": [
    {
     "name": "stdout",
     "output_type": "stream",
     "text": [
      "Duração média: 190.68 ms.\n"
     ]
    }
   ],
   "source": [
    "#sem paralelismo\n",
    "novo_tempo_insertionsort = calculo_tempo_divisao_ordenacao(entrada_vetorizada, 100, insertionsort!, false)\n",
    "println(\"Duração média: \", formata_casas(novo_tempo_insertionsort*1000), \" ms.\")"
   ]
  },
  {
   "cell_type": "code",
   "execution_count": 320,
   "metadata": {
    "execution": {
     "iopub.execute_input": "2020-07-02T16:17:13.660Z",
     "iopub.status.busy": "2020-07-02T16:17:13.607Z",
     "iopub.status.idle": "2020-07-02T16:17:27.189Z"
    },
    "jupyter": {
     "outputs_hidden": false,
     "source_hidden": false
    },
    "nteract": {
     "transient": {
      "deleting": false
     }
    },
    "scrolled": true
   },
   "outputs": [
    {
     "name": "stdout",
     "output_type": "stream",
     "text": [
      "Duração média: 155.05 ms.\n"
     ]
    }
   ],
   "source": [
    "#com paralelismo\n",
    "novo_tempo_insertionsort = calculo_tempo_divisao_ordenacao(entrada_vetorizada, 100, insertionsort!, true)\n",
    "println(\"Duração média: \", formata_casas(novo_tempo_insertionsort*1000), \" ms.\")"
   ]
  },
  {
   "cell_type": "markdown",
   "metadata": {},
   "source": [
    "#### Testes de ordenação"
   ]
  },
  {
   "cell_type": "code",
   "execution_count": 312,
   "metadata": {
    "execution": {
     "iopub.execute_input": "2020-07-02T16:17:27.327Z",
     "iopub.status.busy": "2020-07-02T16:17:27.259Z",
     "iopub.status.idle": "2020-07-02T16:17:30.433Z"
    },
    "jupyter": {
     "outputs_hidden": false,
     "source_hidden": false
    },
    "nteract": {
     "transient": {
      "deleting": false
     }
    }
   },
   "outputs": [
    {
     "name": "stdout",
     "output_type": "stream",
     "text": [
      "Ordenado? sim\n"
     ]
    }
   ],
   "source": [
    "println(\"Ordenado? \", dividir_ordenar_intercalar(copy(entrada_vetorizada), insertionsort, false) |> teste_ordenacao ? \"sim\" : \"não\")"
   ]
  },
  {
   "cell_type": "markdown",
   "metadata": {
    "colab_type": "text",
    "id": "gzdmlG03o9LB",
    "nteract": {
     "transient": {
      "deleting": false
     }
    }
   },
   "source": [
    "## l)\n",
    "Apresentar a complexidade da função descrita no item anterior, fazendo uso de notação assintótica e tendo como parâmetros somente a quantidade n de meses e a quantidade m de fornecedores. (Data de entrega: 25/06) (1,0 ponto)\n"
   ]
  },
  {
   "cell_type": "markdown",
   "metadata": {
    "colab_type": "text",
    "id": "a2dngwNuo9LD"
   },
   "source": [
    "pior caso **Θ(mn⁴)**\n",
    "melhor caso **Θ(mn²log(m))**"
   ]
  }
 ],
 "metadata": {
  "colab": {
   "name": "Cópia de Apresentacao_projeto_2-checkpoint.ipynb",
   "provenance": [
    {
     "file_id": "https://github.com/eduardodut/projetos-algoritmos/blob/master/Projeto%202/.ipynb_checkpoints/Apresentacao_projeto_2-checkpoint.ipynb",
     "timestamp": 1593381274315
    }
   ]
  },
  "kernel_info": {
   "name": "python3"
  },
  "kernelspec": {
   "display_name": "JuliaPro_v1.4.2-1 1.4.2",
   "language": "julia",
   "name": "juliapro_v1.4.2-1-1.4"
  },
  "language_info": {
   "file_extension": ".jl",
   "mimetype": "application/julia",
   "name": "julia",
   "version": "1.4.2"
  },
  "nteract": {
   "version": "0.24.0"
  }
 },
 "nbformat": 4,
 "nbformat_minor": 1
}

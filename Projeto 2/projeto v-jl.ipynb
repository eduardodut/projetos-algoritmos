{
  "cells": [
    {
      "cell_type": "markdown",
      "source": [
        "a) Realizar a leitura do arquivo de entrada, armazenando os dados dos contratos (0,5 ponto) (Data de entrega: 16/06):\n",
        "    1. Em um vetor de objetos do tipo contrato; e\n",
        "    2. Em uma matriz, indexada pelo fornecedor, pelo mês de início e pelo mês de fim do contrato, onde cada elemento armazena o valor do contrato respectivo.\n"
      ],
      "metadata": {
        "nteract": {
          "transient": {
            "deleting": false
          }
        }
      }
    },
    {
      "cell_type": "code",
      "source": [
        "@time begin\n",
        "\n",
        "linhas = readlines(\"Dados/entrada.txt\");\n",
        "\n",
        "\n",
        "parametros_iniciais = split(linhas[1], \" \");\n",
        "n= parse(Int64,parametros_iniciais[1]);\n",
        "m = parse(Int64,parametros_iniciais[2]);\n",
        "t = parse(Float64,parametros_iniciais[3]);\n",
        "\n",
        "linhas = linhas[2:end]\n",
        "\n",
        "entrada_vetorial = Array{Tuple{Int, Int, Int, Float64}}(undef, length(linhas))\n",
        "\n",
        "\n",
        "entrada_matricial= Array{Float64,3}(undef,m, n, n)\n",
        "\n",
        "for i in 1:length(linhas)\n",
        "    dados =  split(linhas[i], \" \")\n",
        "    empresa = parse(Int64,dados[1])\n",
        "    mes_inicial = parse(Int64,dados[2])\n",
        "    mes_final = parse(Int64,dados[3])\n",
        "    valor = parse(Float64,dados[4])\n",
        "    entrada_vetorial[i] = (empresa, mes_inicial, mes_final, valor)\n",
        "    entrada_matricial[empresa,mes_inicial,mes_final] = valor\n",
        "\n",
        "end # for\n",
        "end #time"
      ],
      "outputs": [
        {
          "output_type": "stream",
          "name": "stdout",
          "text": [
            "  4.627054 seconds (9.44 M allocations: 357.840 MiB, 6.92% gc time)\n"
          ]
        }
      ],
      "execution_count": 81,
      "metadata": {
        "execution": {
          "iopub.status.busy": "2020-06-19T19:36:50.626Z",
          "iopub.execute_input": "2020-06-19T19:36:50.635Z",
          "iopub.status.idle": "2020-06-19T19:36:55.454Z"
        }
      }
    },
    {
      "cell_type": "markdown",
      "source": [
        "b) Explicar qual das duas maneiras de armazenamento dos dados é mais eficiente, em relação ao consumo de memória, tanto em termos assintóticos quanto em termos de absolutos. (Data de entrega: 18/06) (0,5 ponto)\n"
      ],
      "metadata": {
        "nteract": {
          "transient": {
            "deleting": false
          }
        }
      }
    },
    {
      "cell_type": "markdown",
      "source": [
        "c) Implementar o método de ordenação Insertion Sort para ordenar o vetor de objetos do tipo contrato. Criar um clone do vetor (simplesmente para não alterar a organização original dos dados) e aplicar o método de ordenação, exibindo ao final o tempo total de execução da ordenação. (Data de entrega: 16/06) (1,0 ponto)\n"
      ],
      "metadata": {
        "nteract": {
          "transient": {
            "deleting": false
          }
        }
      }
    },
    {
      "cell_type": "code",
      "source": [
        "include(\"Algoritmos/funcoes_ordenacao.jl\")\n",
        "\n",
        "tempo_insertion_sort = @elapsed res = funcoes_ordenacao.insertionsort!(entrada_vetorial)\n",
        "\n",
        "println(\"Tempo decorrido: \",tempo_insertion_sort,\"s\")\n",
        "for i in res[1:100]\n",
        "  println(i)\n",
        "end"
      ],
      "outputs": [
        {
          "output_type": "stream",
          "name": "stdout",
          "text": [
            "Tempo decorrido: 0.0391621s\n",
            "(18, 35, 35, 10000.37)\n",
            "(46, 8, 8, 10002.58)\n",
            "(25, 109, 109, 10003.88)\n",
            "(22, 51, 51, 10015.82)\n",
            "(13, 80, 80, 10031.34)\n",
            "(95, 39, 39, 10043.6)\n",
            "(97, 15, 15, 10044.78)\n",
            "(17, 112, 112, 10049.84)\n",
            "(30, 117, 117, 10053.87)\n",
            "(10, 18, 18, 10061.77)\n",
            "(46, 34, 34, 10069.98)\n",
            "(22, 106, 106, 10086.41)\n",
            "(43, 101, 101, 10091.86)\n",
            "(45, 3, 3, 10105.04)\n",
            "(24, 86, 86, 10107.93)\n",
            "(61, 98, 98, 10114.79)\n",
            "(6, 99, 99, 10127.29)\n",
            "(54, 27, 27, 10176.36)\n",
            "(77, 71, 71, 10183.6)\n",
            "(70, 63, 63, 10188.74)\n",
            "(50, 61, 61, 10190.35)\n",
            "(53, 117, 117, 10253.76)\n",
            "(74, 4, 4, 10263.7)\n",
            "(2, 72, 72, 10273.76)\n",
            "(39, 3, 3, 10277.07)\n",
            "(29, 3, 3, 10279.28)\n",
            "(98, 51, 51, 10290.26)\n",
            "(92, 117, 117, 10294.23)\n",
            "(2, 2, 2, 10309.45)\n",
            "(69, 57, 57, 10312.97)\n",
            "(3, 33, 33, 10334.74)\n",
            "(44, 42, 42, 10346.07)\n",
            "(24, 105, 105, 10357.7)\n",
            "(59, 89, 89, 10370.12)\n",
            "(80, 35, 35, 10378.28)\n",
            "(62, 62, 62, 10380.64)\n",
            "(88, 110, 110, 10386.99)\n",
            "(49, 72, 72, 10399.58)\n",
            "(54, 82, 82, 10411.9)\n",
            "(10, 72, 72, 10420.16)\n",
            "(33, 76, 76, 10421.1)\n",
            "(34, 98, 98, 10432.92)\n",
            "(54, 1, 1, 10435.79)\n",
            "(95, 34, 34, 10438.3)\n",
            "(85, 14, 14, 10444.41)\n",
            "(95, 60, 60, 10477.51)\n",
            "(2, 102, 102, 10490.12)\n",
            "(12, 86, 86, 10490.65)\n",
            "(57, 50, 50, 10491.1)\n",
            "(68, 114, 114, 10527.89)\n",
            "(23, 113, 113, 10529.15)\n",
            "(96, 107, 107, 10543.35)\n",
            "(72, 58, 58, 10549.48)\n",
            "(37, 27, 27, 10557.41)\n",
            "(16, 80, 80, 10558.44)\n",
            "(82, 103, 103, 10561.15)\n",
            "(77, 32, 32, 10573.31)\n",
            "(9, 2, 2, 10575.11)\n",
            "(44, 13, 13, 10575.9)\n",
            "(80, 56, 56, 10588.62)\n",
            "(27, 44, 44, 10619.54)\n",
            "(52, 19, 19, 10640.09)\n",
            "(69, 74, 74, 10647.64)\n",
            "(46, 17, 17, 10652.27)\n",
            "(5, 4, 4, 10653.89)\n",
            "(5, 3, 3, 10654.19)\n",
            "(74, 106, 106, 10655.67)\n",
            "(18, 78, 78, 10660.35)\n",
            "(82, 2, 2, 10667.13)\n",
            "(31, 79, 79, 10667.29)\n",
            "(69, 28, 28, 10671.52)\n",
            "(99, 10, 10, 10674.14)\n",
            "(75, 19, 19, 10687.14)\n",
            "(8, 66, 66, 10696.81)\n",
            "(29, 42, 42, 10713.35)\n",
            "(29, 113, 113, 10717.75)\n",
            "(56, 112, 112, 10723.74)\n",
            "(21, 38, 38, 10727.24)\n",
            "(70, 19, 19, 10740.37)\n",
            "(20, 115, 115, 10740.58)\n",
            "(6, 94, 94, 10741.94)\n",
            "(18, 51, 51, 10744.91)\n",
            "(29, 22, 22, 10747.49)\n",
            "(35, 5, 5, 10750.12)\n",
            "(54, 55, 55, 10754.2)\n",
            "(21, 112, 112, 10755.25)\n",
            "(27, 81, 81, 10774.87)\n",
            "(1, 111, 111, 10777.28)\n",
            "(74, 19, 19, 10793.96)\n",
            "(43, 93, 93, 10816.35)\n",
            "(59, 23, 23, 10817.24)\n",
            "(61, 78, 78, 10830.38)\n",
            "(63, 28, 28, 10831.07)\n",
            "(90, 49, 49, 10847.54)\n",
            "(56, 119, 119, 10876.98)\n",
            "(55, 96, 96, 10902.65)\n",
            "(3, 75, 75, 10904.83)\n",
            "(4, 2, 2, 10925.63)\n",
            "(56, 41, 41, 10930.57)\n",
            "(81, 58, 58, 10939.88)\n"
          ]
        },
        {
          "output_type": "stream",
          "name": "stderr",
          "text": [
            "WARNING: replacing module funcoes_ordenacao.\n"
          ]
        }
      ],
      "execution_count": 98,
      "metadata": {
        "collapsed": true,
        "jupyter": {
          "source_hidden": false,
          "outputs_hidden": false
        },
        "nteract": {
          "transient": {
            "deleting": false
          }
        },
        "execution": {
          "iopub.status.busy": "2020-06-19T23:05:32.925Z",
          "iopub.execute_input": "2020-06-19T23:05:32.931Z",
          "iopub.status.idle": "2020-06-19T23:05:33.089Z"
        }
      }
    },
    {
      "cell_type": "markdown",
      "source": [
        "d) Apresentar a complexidade da função descrita no item anterior, fazendo uso de notação assintótica e tendo como parâmetros somente a quantidade n de meses e a quantidade m de fornecedores. (Data de entrega: 18/06) (0,5 ponto)\n"
      ],
      "metadata": {
        "nteract": {
          "transient": {
            "deleting": false
          }
        }
      }
    },
    {
      "cell_type": "markdown",
      "source": [
        "e) Implementar o método de ordenação Mergesort para ordenar o vetor de objetos do tipo contrato. Criar um clone do vetor e aplicar o método de ordenação, exibindo ao final o tempo total de execução da ordenação. (Data de entrega: 23/06) (1,0 ponto)\n"
      ],
      "metadata": {
        "nteract": {
          "transient": {
            "deleting": false
          }
        }
      }
    },
    {
      "cell_type": "markdown",
      "source": [
        "f) Apresentar a complexidade da função descrita no item anterior, fazendo uso de notação assintótica e tendo como parâmetros somente a quantidade n de meses e a quantidade m de fornecedores. (Data de entrega: 23/06) (0,5 ponto)\n"
      ],
      "metadata": {
        "nteract": {
          "transient": {
            "deleting": false
          }
        }
      }
    },
    {
      "cell_type": "markdown",
      "source": [
        "g) Implementar o método de ordenação Heapsort para ordenar o vetor de objetos do tipo contrato. Criar um clone do vetor e aplicar o método de ordenação, exibindo ao final o tempo total de execução da ordenação. (Data de entrega: 23/06) (1,0 ponto)\n"
      ],
      "metadata": {
        "nteract": {
          "transient": {
            "deleting": false
          }
        }
      }
    },
    {
      "cell_type": "markdown",
      "source": [
        "h) Apresentar a complexidade da função descrita no item anterior, fazendo uso de notação assintótica e tendo como parâmetros somente a quantidade n de meses e a quantidade m de fornecedores. (Data de entrega: 23/06) (0,5 ponto)\n"
      ],
      "metadata": {
        "nteract": {
          "transient": {
            "deleting": false
          }
        }
      }
    },
    {
      "cell_type": "markdown",
      "source": [
        "i) Implementar o método de ordenação Quicksort para ordenar o vetor de objetos do tipo contrato. Criar um clone do vetor e aplicar o método de ordenação, exibindo ao final o tempo total de execução da ordenação. (Data de entrega: 23/06) (1,0 ponto)\n"
      ],
      "metadata": {
        "nteract": {
          "transient": {
            "deleting": false
          }
        }
      }
    },
    {
      "cell_type": "markdown",
      "source": [
        "j) Apresentar a complexidade da função descrita no item anterior, fazendo uso de notação assintótica e tendo como parâmetros somente a quantidade n de meses e a quantidade m de fornecedores. (Data de entrega: 23/06) (0,5 ponto)\n"
      ],
      "metadata": {
        "nteract": {
          "transient": {
            "deleting": false
          }
        }
      }
    },
    {
      "cell_type": "markdown",
      "source": [
        "k) Baseando-se nas ideias dos algoritmos apresentados, criar um método de ordenação que, entretanto, explore as regras de formação de preços de contratos de um fornecedor (expressas na matriz de contratos), para realizar a ordenação dos contratos pelo valor, exibindo ao final o tempo total de execução da ordenação. (Data de entrega: 25/06) (2,0 pontos)\n"
      ],
      "metadata": {
        "nteract": {
          "transient": {
            "deleting": false
          }
        }
      }
    },
    {
      "cell_type": "markdown",
      "source": [
        "l) Apresentar a complexidade da função descrita no item anterior, fazendo uso de notação assintótica e tendo como parâmetros somente a quantidade n de meses e a quantidade m de fornecedores. (Data de entrega: 25/06) (1,0 ponto)\n"
      ],
      "metadata": {
        "nteract": {
          "transient": {
            "deleting": false
          }
        }
      }
    }
  ],
  "metadata": {
    "kernel_info": {
      "name": "python3"
    },
    "kernelspec": {
      "display_name": "JuliaPro_v1.4.2-1 1.4.2",
      "language": "julia",
      "name": "juliapro_v1.4.2-1-1.4"
    },
    "language_info": {
      "file_extension": ".jl",
      "name": "julia",
      "mimetype": "application/julia",
      "version": "1.4.2"
    },
    "nteract": {
      "version": "0.23.3"
    }
  },
  "nbformat": 4,
  "nbformat_minor": 4
}